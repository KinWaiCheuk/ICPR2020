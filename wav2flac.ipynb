{
 "cells": [
  {
   "cell_type": "code",
   "execution_count": 2,
   "metadata": {},
   "outputs": [],
   "source": [
    "from scipy.io import wavfile\n",
    "from pydub import AudioSegment\n",
    "from glob import glob\n",
    "from tqdm import tqdm\n",
    "\n",
    "import os\n",
    "\n",
    "from multiprocessing import Pool, cpu_count\n"
   ]
  },
  {
   "cell_type": "markdown",
   "metadata": {},
   "source": [
    "# Converting MAPS to flac"
   ]
  },
  {
   "cell_type": "code",
   "execution_count": 2,
   "metadata": {},
   "outputs": [],
   "source": [
    "def wav2flac(wavfile):\n",
    "    sound = AudioSegment.from_wav(wavfile)\n",
    "    sound = sound.set_frame_rate(16000) # downsample it to 16000\n",
    "    sound = sound.set_channels(1) # Convert Stereo to Mono\n",
    "    sound.export(os.path.join(flac_path, os.path.basename(wavfile[:-3]) + 'flac'), format='flac')    \n",
    "\n",
    "MAPS_path = glob('../MAPS/*/*/MUS/*.wav')\n",
    "\n",
    "flac_path = os.path.join('..','MAPS','flac')\n",
    "\n",
    "pool = Pool(processes=cpu_count()) \n",
    "pool.map(wav2flac, MAPS_path)\n",
    "pool.close()  # no more jobs will be added\n",
    "pool.join()"
   ]
  },
  {
   "cell_type": "code",
   "execution_count": null,
   "metadata": {},
   "outputs": [],
   "source": [
    "# for wavfile in tqdm(MAPS_path):\n",
    "#     sound = AudioSegment.from_wav(wavfile)\n",
    "#     sound = sound.set_frame_rate(16000) # downsample it to 16000\n",
    "#     sound = sound.set_channels(1) # Convert Stereo to Mono\n",
    "    \n",
    "#     sound.export(os.path.join(flac_path, os.path.basename(wavfile[:-3]) + 'flac'), format='flac')"
   ]
  },
  {
   "cell_type": "markdown",
   "metadata": {},
   "source": [
    "# Converting MAESTRO to flac"
   ]
  },
  {
   "cell_type": "code",
   "execution_count": 7,
   "metadata": {},
   "outputs": [],
   "source": [
    "def wav2flac(wavfile):\n",
    "    sound = AudioSegment.from_wav(wavfile)\n",
    "    sound = sound.set_frame_rate(16000) # downsample it to 16000\n",
    "    sound = sound.set_channels(1) # Convert Stereo to Mono\n",
    "    sound.export(wavfile[:-3] + 'flac', format='flac')  "
   ]
  },
  {
   "cell_type": "code",
   "execution_count": 4,
   "metadata": {},
   "outputs": [],
   "source": [
    "MAESTRO_path = glob('../MAESTRO/*/*.wav')"
   ]
  },
  {
   "cell_type": "code",
   "execution_count": 8,
   "metadata": {},
   "outputs": [],
   "source": [
    "pool = Pool(processes=cpu_count()) \n",
    "pool.map(wav2flac, MAESTRO_path)\n",
    "pool.close()  # no more jobs will be added\n",
    "pool.join()"
   ]
  },
  {
   "cell_type": "code",
   "execution_count": null,
   "metadata": {},
   "outputs": [],
   "source": []
  }
 ],
 "metadata": {
  "kernelspec": {
   "display_name": "Python 3",
   "language": "python",
   "name": "python3"
  },
  "language_info": {
   "codemirror_mode": {
    "name": "ipython",
    "version": 3
   },
   "file_extension": ".py",
   "mimetype": "text/x-python",
   "name": "python",
   "nbconvert_exporter": "python",
   "pygments_lexer": "ipython3",
   "version": "3.6.2"
  }
 },
 "nbformat": 4,
 "nbformat_minor": 2
}
