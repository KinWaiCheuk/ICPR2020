{
 "cells": [
  {
   "cell_type": "code",
   "execution_count": 1,
   "metadata": {},
   "outputs": [
    {
     "name": "stdout",
     "output_type": "stream",
     "text": [
      "STFT filter created, time used = 0.2062 seconds\n",
      "Mel filter created, time used = 0.0051 seconds\n"
     ]
    }
   ],
   "source": [
    "import torch\n",
    "import os\n",
    "import soundfile\n",
    "from scipy.signal import resample\n",
    "import librosa\n",
    "from nnAudio import Spectrogram\n",
    "import matplotlib.pyplot as plt\n",
    "\n",
    "os.environ['CUDA_VISIBLE_DEVICES'] = '3'\n",
    "from evaluate import *\n",
    "\n",
    "if torch.cuda.is_available():\n",
    "    device = 'cuda:0'\n",
    "else:\n",
    "    device = 'cpu'"
   ]
  },
  {
   "cell_type": "code",
   "execution_count": 7,
   "metadata": {},
   "outputs": [
    {
     "data": {
      "text/plain": [
       "['model-500.pt',\n",
       " 'model-900.pt',\n",
       " 'model-750.pt',\n",
       " 'model-450.pt',\n",
       " 'model-1700.pt',\n",
       " 'model-1250.pt',\n",
       " 'model-1600.pt',\n",
       " 'model-1450.pt',\n",
       " 'model-1900.pt',\n",
       " 'model-350.pt',\n",
       " 'model-700.pt',\n",
       " 'model-850.pt',\n",
       " 'model-950.pt',\n",
       " 'model-100.pt',\n",
       " 'model-1950.pt',\n",
       " 'model-650.pt',\n",
       " 'model-1000.pt',\n",
       " 'model-250.pt',\n",
       " 'model-50.pt',\n",
       " 'model-550.pt',\n",
       " 'last-optimizer-state.pt',\n",
       " 'model-1100.pt',\n",
       " 'model-1500.pt',\n",
       " 'model-1800.pt',\n",
       " 'model-150.pt',\n",
       " 'model-1750.pt',\n",
       " 'model-1400.pt',\n",
       " 'model-800.pt',\n",
       " '1',\n",
       " 'model-2000.pt',\n",
       " 'model-1850.pt',\n",
       " 'model-1200.pt',\n",
       " 'model-1650.pt',\n",
       " 'model-600.pt',\n",
       " 'model-1050.pt',\n",
       " 'model-1550.pt',\n",
       " '_sources',\n",
       " 'model-300.pt',\n",
       " 'model-1300.pt',\n",
       " 'events.out.tfevents.1578546570.debb4f54d1a6.23844.0',\n",
       " 'model-1150.pt',\n",
       " 'model-1350.pt',\n",
       " 'model-400.pt',\n",
       " 'model-200.pt']"
      ]
     },
     "execution_count": 7,
     "metadata": {},
     "output_type": "execute_result"
    }
   ],
   "source": [
    "os.listdir('./runs/model2')"
   ]
  },
  {
   "cell_type": "code",
   "execution_count": 8,
   "metadata": {},
   "outputs": [],
   "source": [
    "model = 'model2'\n",
    "model_file = os.path.join('./runs',model,'model-2000.pt')\n",
    "dataset = 'MAPS'\n",
    "dataset_group = None\n",
    "save_path = os.path.join('results',model)\n",
    "sequence_length = None\n",
    "onset_threshold = 0.5\n",
    "frame_threshold = 0.5\n",
    "device = 'cuda:0'"
   ]
  },
  {
   "cell_type": "code",
   "execution_count": 9,
   "metadata": {},
   "outputs": [],
   "source": [
    "model = torch.load(model_file, map_location=device)"
   ]
  },
  {
   "cell_type": "code",
   "execution_count": 10,
   "metadata": {},
   "outputs": [
    {
     "name": "stdout",
     "output_type": "stream",
     "text": [
      "OnsetsAndFrames(\n",
      "  (onset_stack): Sequential(\n",
      "    (0): ConvStack(\n",
      "      (cnn): Sequential(\n",
      "        (0): Conv2d(1, 48, kernel_size=(3, 3), stride=(1, 1), padding=(1, 1)), \u001b[92m480\u001b[0m params\n",
      "        (1): BatchNorm2d(48, eps=1e-05, momentum=0.1, affine=True, track_running_stats=True), \u001b[92m96\u001b[0m params\n",
      "        (2): ReLU(), \u001b[92m0\u001b[0m params\n",
      "        (3): Conv2d(48, 48, kernel_size=(3, 3), stride=(1, 1), padding=(1, 1)), \u001b[92m20,784\u001b[0m params\n",
      "        (4): BatchNorm2d(48, eps=1e-05, momentum=0.1, affine=True, track_running_stats=True), \u001b[92m96\u001b[0m params\n",
      "        (5): ReLU(), \u001b[92m0\u001b[0m params\n",
      "        (6): MaxPool2d(kernel_size=(1, 2), stride=(1, 2), padding=0, dilation=1, ceil_mode=False), \u001b[92m0\u001b[0m params\n",
      "        (7): Dropout(p=0.25, inplace=False), \u001b[92m0\u001b[0m params\n",
      "        (8): Conv2d(48, 96, kernel_size=(3, 3), stride=(1, 1), padding=(1, 1)), \u001b[92m41,568\u001b[0m params\n",
      "        (9): BatchNorm2d(96, eps=1e-05, momentum=0.1, affine=True, track_running_stats=True), \u001b[92m192\u001b[0m params\n",
      "        (10): ReLU(), \u001b[92m0\u001b[0m params\n",
      "        (11): MaxPool2d(kernel_size=(1, 2), stride=(1, 2), padding=0, dilation=1, ceil_mode=False), \u001b[92m0\u001b[0m params\n",
      "        (12): Dropout(p=0.25, inplace=False), \u001b[92m0\u001b[0m params\n",
      "      ), \u001b[92m63,216\u001b[0m params\n",
      "      (fc): Sequential(\n",
      "        (0): Linear(in_features=5472, out_features=768, bias=True), \u001b[92m4,203,264\u001b[0m params\n",
      "        (1): Dropout(p=0.5, inplace=False), \u001b[92m0\u001b[0m params\n",
      "      ), \u001b[92m4,203,264\u001b[0m params\n",
      "    ), \u001b[92m4,266,480\u001b[0m params\n",
      "    (1): BiLSTM(\n",
      "      (rnn): LSTM(768, 384, batch_first=True, bidirectional=True), \u001b[92m3,545,088\u001b[0m params\n",
      "    ), \u001b[92m3,545,088\u001b[0m params\n",
      "    (2): Linear(in_features=768, out_features=88, bias=True), \u001b[92m67,672\u001b[0m params\n",
      "    (3): Sigmoid(), \u001b[92m0\u001b[0m params\n",
      "  ), \u001b[92m7,879,240\u001b[0m params\n",
      "  (offset_stack): Sequential(\n",
      "    (0): ConvStack(\n",
      "      (cnn): Sequential(\n",
      "        (0): Conv2d(1, 48, kernel_size=(3, 3), stride=(1, 1), padding=(1, 1)), \u001b[92m480\u001b[0m params\n",
      "        (1): BatchNorm2d(48, eps=1e-05, momentum=0.1, affine=True, track_running_stats=True), \u001b[92m96\u001b[0m params\n",
      "        (2): ReLU(), \u001b[92m0\u001b[0m params\n",
      "        (3): Conv2d(48, 48, kernel_size=(3, 3), stride=(1, 1), padding=(1, 1)), \u001b[92m20,784\u001b[0m params\n",
      "        (4): BatchNorm2d(48, eps=1e-05, momentum=0.1, affine=True, track_running_stats=True), \u001b[92m96\u001b[0m params\n",
      "        (5): ReLU(), \u001b[92m0\u001b[0m params\n",
      "        (6): MaxPool2d(kernel_size=(1, 2), stride=(1, 2), padding=0, dilation=1, ceil_mode=False), \u001b[92m0\u001b[0m params\n",
      "        (7): Dropout(p=0.25, inplace=False), \u001b[92m0\u001b[0m params\n",
      "        (8): Conv2d(48, 96, kernel_size=(3, 3), stride=(1, 1), padding=(1, 1)), \u001b[92m41,568\u001b[0m params\n",
      "        (9): BatchNorm2d(96, eps=1e-05, momentum=0.1, affine=True, track_running_stats=True), \u001b[92m192\u001b[0m params\n",
      "        (10): ReLU(), \u001b[92m0\u001b[0m params\n",
      "        (11): MaxPool2d(kernel_size=(1, 2), stride=(1, 2), padding=0, dilation=1, ceil_mode=False), \u001b[92m0\u001b[0m params\n",
      "        (12): Dropout(p=0.25, inplace=False), \u001b[92m0\u001b[0m params\n",
      "      ), \u001b[92m63,216\u001b[0m params\n",
      "      (fc): Sequential(\n",
      "        (0): Linear(in_features=5472, out_features=768, bias=True), \u001b[92m4,203,264\u001b[0m params\n",
      "        (1): Dropout(p=0.5, inplace=False), \u001b[92m0\u001b[0m params\n",
      "      ), \u001b[92m4,203,264\u001b[0m params\n",
      "    ), \u001b[92m4,266,480\u001b[0m params\n",
      "    (1): BiLSTM(\n",
      "      (rnn): LSTM(768, 384, batch_first=True, bidirectional=True), \u001b[92m3,545,088\u001b[0m params\n",
      "    ), \u001b[92m3,545,088\u001b[0m params\n",
      "    (2): Linear(in_features=768, out_features=88, bias=True), \u001b[92m67,672\u001b[0m params\n",
      "    (3): Sigmoid(), \u001b[92m0\u001b[0m params\n",
      "  ), \u001b[92m7,879,240\u001b[0m params\n",
      "  (frame_stack): Sequential(\n",
      "    (0): ConvStack(\n",
      "      (cnn): Sequential(\n",
      "        (0): Conv2d(1, 48, kernel_size=(3, 3), stride=(1, 1), padding=(1, 1)), \u001b[92m480\u001b[0m params\n",
      "        (1): BatchNorm2d(48, eps=1e-05, momentum=0.1, affine=True, track_running_stats=True), \u001b[92m96\u001b[0m params\n",
      "        (2): ReLU(), \u001b[92m0\u001b[0m params\n",
      "        (3): Conv2d(48, 48, kernel_size=(3, 3), stride=(1, 1), padding=(1, 1)), \u001b[92m20,784\u001b[0m params\n",
      "        (4): BatchNorm2d(48, eps=1e-05, momentum=0.1, affine=True, track_running_stats=True), \u001b[92m96\u001b[0m params\n",
      "        (5): ReLU(), \u001b[92m0\u001b[0m params\n",
      "        (6): MaxPool2d(kernel_size=(1, 2), stride=(1, 2), padding=0, dilation=1, ceil_mode=False), \u001b[92m0\u001b[0m params\n",
      "        (7): Dropout(p=0.25, inplace=False), \u001b[92m0\u001b[0m params\n",
      "        (8): Conv2d(48, 96, kernel_size=(3, 3), stride=(1, 1), padding=(1, 1)), \u001b[92m41,568\u001b[0m params\n",
      "        (9): BatchNorm2d(96, eps=1e-05, momentum=0.1, affine=True, track_running_stats=True), \u001b[92m192\u001b[0m params\n",
      "        (10): ReLU(), \u001b[92m0\u001b[0m params\n",
      "        (11): MaxPool2d(kernel_size=(1, 2), stride=(1, 2), padding=0, dilation=1, ceil_mode=False), \u001b[92m0\u001b[0m params\n",
      "        (12): Dropout(p=0.25, inplace=False), \u001b[92m0\u001b[0m params\n",
      "      ), \u001b[92m63,216\u001b[0m params\n",
      "      (fc): Sequential(\n",
      "        (0): Linear(in_features=5472, out_features=768, bias=True), \u001b[92m4,203,264\u001b[0m params\n",
      "        (1): Dropout(p=0.5, inplace=False), \u001b[92m0\u001b[0m params\n",
      "      ), \u001b[92m4,203,264\u001b[0m params\n",
      "    ), \u001b[92m4,266,480\u001b[0m params\n",
      "    (1): Linear(in_features=768, out_features=88, bias=True), \u001b[92m67,672\u001b[0m params\n",
      "    (2): Sigmoid(), \u001b[92m0\u001b[0m params\n",
      "  ), \u001b[92m4,334,152\u001b[0m params\n",
      "  (combined_stack): Sequential(\n",
      "    (0): BiLSTM(\n",
      "      (rnn): LSTM(176, 384, batch_first=True, bidirectional=True), \u001b[92m1,726,464\u001b[0m params\n",
      "    ), \u001b[92m1,726,464\u001b[0m params\n",
      "    (1): Linear(in_features=768, out_features=88, bias=True), \u001b[92m67,672\u001b[0m params\n",
      "    (2): Sigmoid(), \u001b[92m0\u001b[0m params\n",
      "  ), \u001b[92m1,794,136\u001b[0m params\n",
      "  (velocity_stack): Sequential(\n",
      "    (0): ConvStack(\n",
      "      (cnn): Sequential(\n",
      "        (0): Conv2d(1, 48, kernel_size=(3, 3), stride=(1, 1), padding=(1, 1)), \u001b[92m480\u001b[0m params\n",
      "        (1): BatchNorm2d(48, eps=1e-05, momentum=0.1, affine=True, track_running_stats=True), \u001b[92m96\u001b[0m params\n",
      "        (2): ReLU(), \u001b[92m0\u001b[0m params\n",
      "        (3): Conv2d(48, 48, kernel_size=(3, 3), stride=(1, 1), padding=(1, 1)), \u001b[92m20,784\u001b[0m params\n",
      "        (4): BatchNorm2d(48, eps=1e-05, momentum=0.1, affine=True, track_running_stats=True), \u001b[92m96\u001b[0m params\n",
      "        (5): ReLU(), \u001b[92m0\u001b[0m params\n",
      "        (6): MaxPool2d(kernel_size=(1, 2), stride=(1, 2), padding=0, dilation=1, ceil_mode=False), \u001b[92m0\u001b[0m params\n",
      "        (7): Dropout(p=0.25, inplace=False), \u001b[92m0\u001b[0m params\n",
      "        (8): Conv2d(48, 96, kernel_size=(3, 3), stride=(1, 1), padding=(1, 1)), \u001b[92m41,568\u001b[0m params\n",
      "        (9): BatchNorm2d(96, eps=1e-05, momentum=0.1, affine=True, track_running_stats=True), \u001b[92m192\u001b[0m params\n",
      "        (10): ReLU(), \u001b[92m0\u001b[0m params\n",
      "        (11): MaxPool2d(kernel_size=(1, 2), stride=(1, 2), padding=0, dilation=1, ceil_mode=False), \u001b[92m0\u001b[0m params\n",
      "        (12): Dropout(p=0.25, inplace=False), \u001b[92m0\u001b[0m params\n",
      "      ), \u001b[92m63,216\u001b[0m params\n",
      "      (fc): Sequential(\n",
      "        (0): Linear(in_features=5472, out_features=768, bias=True), \u001b[92m4,203,264\u001b[0m params\n",
      "        (1): Dropout(p=0.5, inplace=False), \u001b[92m0\u001b[0m params\n",
      "      ), \u001b[92m4,203,264\u001b[0m params\n",
      "    ), \u001b[92m4,266,480\u001b[0m params\n",
      "    (1): Linear(in_features=768, out_features=88, bias=True), \u001b[92m67,672\u001b[0m params\n",
      "  ), \u001b[92m4,334,152\u001b[0m params\n",
      "), \u001b[92m26,220,920\u001b[0m params\n"
     ]
    },
    {
     "data": {
      "text/plain": [
       "26220920"
      ]
     },
     "execution_count": 10,
     "metadata": {},
     "output_type": "execute_result"
    }
   ],
   "source": [
    "summary(model)"
   ]
  },
  {
   "cell_type": "code",
   "execution_count": 11,
   "metadata": {},
   "outputs": [],
   "source": [
    "audio_path = './test_audio/1759.wav'"
   ]
  },
  {
   "cell_type": "code",
   "execution_count": 12,
   "metadata": {},
   "outputs": [],
   "source": [
    "audio, sr = librosa.load(audio_path, sr=16000)"
   ]
  },
  {
   "cell_type": "code",
   "execution_count": 13,
   "metadata": {},
   "outputs": [],
   "source": [
    "audio = torch.tensor(audio).to(device)"
   ]
  },
  {
   "cell_type": "code",
   "execution_count": 14,
   "metadata": {},
   "outputs": [
    {
     "name": "stdout",
     "output_type": "stream",
     "text": [
      "STFT filter created, time used = 0.1924 seconds\n",
      "Mel filter created, time used = 0.0050 seconds\n"
     ]
    }
   ],
   "source": [
    "melspectrogram = Spectrogram.MelSpectrogram(SAMPLE_RATE, WINDOW_LENGTH, N_MELS, HOP_LENGTH,\n",
    "                                            fmin=MEL_FMIN, fmax=MEL_FMAX, trainable_mel=True, device=DEFAULT_DEVICE)"
   ]
  },
  {
   "cell_type": "code",
   "execution_count": 15,
   "metadata": {},
   "outputs": [],
   "source": [
    "mel = melspectrogram(audio)"
   ]
  },
  {
   "cell_type": "code",
   "execution_count": 16,
   "metadata": {},
   "outputs": [],
   "source": [
    "mel = mel.transpose(-1,-2)"
   ]
  },
  {
   "cell_type": "code",
   "execution_count": 17,
   "metadata": {},
   "outputs": [],
   "source": [
    "onset_pred, activation_pred, frame_pred = model(mel)"
   ]
  },
  {
   "cell_type": "code",
   "execution_count": 18,
   "metadata": {},
   "outputs": [
    {
     "data": {
      "text/plain": [
       "torch.Size([1, 12167, 88])"
      ]
     },
     "execution_count": 18,
     "metadata": {},
     "output_type": "execute_result"
    }
   ],
   "source": [
    "frame_pred.shape"
   ]
  },
  {
   "cell_type": "code",
   "execution_count": 19,
   "metadata": {},
   "outputs": [
    {
     "data": {
      "text/plain": [
       "torch.Size([88, 12167, 1])"
      ]
     },
     "execution_count": 19,
     "metadata": {},
     "output_type": "execute_result"
    }
   ],
   "source": [
    "frame_pred.T.shape"
   ]
  },
  {
   "cell_type": "code",
   "execution_count": 20,
   "metadata": {},
   "outputs": [
    {
     "data": {
      "text/plain": [
       "<matplotlib.image.AxesImage at 0x7fd6bb0c3278>"
      ]
     },
     "execution_count": 20,
     "metadata": {},
     "output_type": "execute_result"
    },
    {
     "data": {
      "image/png": "[encoded data removed]",
      "text/plain": [
       "<Figure size 432x288 with 1 Axes>"
      ]
     },
     "metadata": {
      "needs_background": "light"
     },
     "output_type": "display_data"
    }
   ],
   "source": [
    "plt.imshow(frame_pred.detach().cpu()[0].T, origin='lower', aspect='auto')"
   ]
  },
  {
   "cell_type": "code",
   "execution_count": 21,
   "metadata": {},
   "outputs": [],
   "source": [
    "import pandas as pd\n",
    "from evaluate import extract_notes_wo_velocity"
   ]
  },
  {
   "cell_type": "code",
   "execution_count": 22,
   "metadata": {},
   "outputs": [
    {
     "data": {
      "text/plain": [
       "['MAPS_MUS-muss_1_ENSTDkAm.tsv',\n",
       " 'MAPS_MUS-chp_op31_AkPnStgb.tsv',\n",
       " 'MAPS_MUS-scn15_12_StbgTGd2.tsv',\n",
       " 'MAPS_MUS-scn16_3_StbgTGd2.tsv',\n",
       " 'MAPS_MUS-waldstein_2_AkPnCGdD.tsv',\n",
       " 'MAPS_MUS-scn15_13_AkPnStgb.tsv',\n",
       " 'MAPS_MUS-ty_februar_SptkBGCl.tsv',\n",
       " 'MAPS_MUS-scn16_5_SptkBGAm.tsv',\n",
       " 'MAPS_MUS-chpn-p13_AkPnCGdD.tsv',\n",
       " 'MAPS_MUS-bk_xmas1_StbgTGd2.tsv',\n",
       " 'MAPS_MUS-chpn_op27_2_AkPnStgb.tsv',\n",
       " 'MAPS_MUS-schu_143_1_ENSTDkAm.tsv',\n",
       " 'MAPS_MUS-chpn-p15_ENSTDkAm.tsv',\n",
       " 'MAPS_MUS-alb_esp2_AkPnStgb.tsv',\n",
       " 'MAPS_MUS-mond_3_AkPnStgb.tsv',\n",
       " 'MAPS_MUS-mz_331_2_ENSTDkCl.tsv',\n",
       " 'MAPS_MUS-deb_clai_ENSTDkCl.tsv',\n",
       " 'MAPS_MUS-grieg_elfentanz_AkPnBsdf.tsv',\n",
       " 'MAPS_MUS-schub_d960_3_AkPnStgb.tsv',\n",
       " 'MAPS_MUS-liz_rhap02_ENSTDkAm.tsv',\n",
       " 'MAPS_MUS-bor_ps2_SptkBGAm.tsv',\n",
       " 'MAPS_MUS-liz_et4_SptkBGCl.tsv',\n",
       " 'MAPS_MUS-mz_332_1_AkPnBsdf.tsv',\n",
       " 'MAPS_MUS-alb_se8_SptkBGAm.tsv',\n",
       " 'MAPS_MUS-liz_et_trans5_StbgTGd2.tsv',\n",
       " 'MAPS_MUS-bor_ps6_StbgTGd2.tsv',\n",
       " 'MAPS_MUS-mz_332_2_ENSTDkCl.tsv',\n",
       " 'MAPS_MUS-bk_xmas3_AkPnStgb.tsv',\n",
       " 'MAPS_MUS-liz_et1_SptkBGAm.tsv',\n",
       " 'MAPS_MUS-chpn-p19_ENSTDkCl.tsv',\n",
       " 'MAPS_MUS-muss_4_AkPnBsdf.tsv',\n",
       " 'MAPS_MUS-schuim-1_StbgTGd2.tsv',\n",
       " 'MAPS_MUS-scn15_11_ENSTDkCl.tsv',\n",
       " 'MAPS_MUS-mz_333_3_StbgTGd2.tsv',\n",
       " 'MAPS_MUS-bach_846_SptkBGAm.tsv',\n",
       " 'MAPS_MUS-waldstein_1_AkPnStgb.tsv',\n",
       " 'MAPS_MUS-schub_d960_3_AkPnCGdD.tsv',\n",
       " 'MAPS_MUS-mz_330_1_SptkBGCl.tsv',\n",
       " 'MAPS_MUS-mz_333_2_AkPnCGdD.tsv',\n",
       " 'MAPS_MUS-scn16_2_SptkBGCl.tsv',\n",
       " 'MAPS_MUS-chpn-p3_AkPnBcht.tsv',\n",
       " 'MAPS_MUS-bor_ps1_AkPnCGdD.tsv',\n",
       " 'MAPS_MUS-schuim-3_AkPnStgb.tsv',\n",
       " 'MAPS_MUS-alb_esp3_AkPnCGdD.tsv',\n",
       " 'MAPS_MUS-chpn-p12_AkPnBcht.tsv',\n",
       " 'MAPS_MUS-schu_143_1_AkPnBcht.tsv',\n",
       " 'MAPS_MUS-chpn-p2_SptkBGCl.tsv',\n",
       " 'MAPS_MUS-ty_juni_AkPnBsdf.tsv',\n",
       " 'MAPS_MUS-chpn_op25_e2_AkPnBcht.tsv',\n",
       " 'MAPS_MUS-chpn_op25_e3_SptkBGAm.tsv',\n",
       " 'MAPS_MUS-mendel_op53_5_AkPnCGdD.tsv',\n",
       " 'MAPS_MUS-bk_xmas2_AkPnStgb.tsv',\n",
       " 'MAPS_MUS-alb_se7_AkPnBsdf.tsv',\n",
       " 'MAPS_MUS-chpn-p13_AkPnBcht.tsv',\n",
       " 'MAPS_MUS-ty_maerz_StbgTGd2.tsv',\n",
       " 'MAPS_MUS-mos_op36_6_AkPnBsdf.tsv',\n",
       " 'MAPS_MUS-scn16_7_SptkBGAm.tsv',\n",
       " 'MAPS_MUS-chpn-p8_AkPnBcht.tsv',\n",
       " 'MAPS_MUS-deb_pass_SptkBGAm.tsv',\n",
       " 'MAPS_MUS-liz_et6_AkPnBsdf.tsv',\n",
       " 'MAPS_MUS-grieg_walzer_SptkBGCl.tsv',\n",
       " 'MAPS_MUS-chpn-p15_AkPnCGdD.tsv',\n",
       " 'MAPS_MUS-muss_3_SptkBGCl.tsv',\n",
       " 'MAPS_MUS-schuim-1_AkPnStgb.tsv',\n",
       " 'MAPS_MUS-grieg_butterfly_StbgTGd2.tsv',\n",
       " 'MAPS_MUS-bach_847_SptkBGCl.tsv',\n",
       " 'MAPS_MUS-ty_september_SptkBGAm.tsv',\n",
       " 'MAPS_MUS-mond_1_SptkBGAm.tsv',\n",
       " 'MAPS_MUS-burg_quelle_SptkBGAm.tsv',\n",
       " 'MAPS_MUS-chpn-p1_AkPnBcht.tsv',\n",
       " 'MAPS_MUS-br_im5_SptkBGCl.tsv',\n",
       " 'MAPS_MUS-bach_847_AkPnStgb.tsv',\n",
       " 'MAPS_MUS-ty_mai_StbgTGd2.tsv',\n",
       " 'MAPS_MUS-waldstein_1_AkPnBsdf.tsv',\n",
       " 'MAPS_MUS-scn16_4_ENSTDkAm.tsv',\n",
       " 'MAPS_MUS-chpn-p4_ENSTDkAm.tsv',\n",
       " 'MAPS_MUS-chpn-e01_SptkBGAm.tsv',\n",
       " 'MAPS_MUS-chpn_op7_1_ENSTDkAm.tsv',\n",
       " 'MAPS_MUS-liz_et6_ENSTDkCl.tsv',\n",
       " 'MAPS_MUS-bor_ps6_ENSTDkCl.tsv',\n",
       " 'MAPS_MUS-ty_dezember_AkPnBsdf.tsv',\n",
       " 'MAPS_MUS-br_im2_SptkBGAm.tsv',\n",
       " 'MAPS_MUS-mendel_op62_5_ENSTDkAm.tsv',\n",
       " 'MAPS_MUS-scn15_2_SptkBGCl.tsv',\n",
       " 'MAPS_MUS-deb_clai_StbgTGd2.tsv',\n",
       " 'MAPS_MUS-mz_570_1_ENSTDkCl.tsv',\n",
       " 'MAPS_MUS-grieg_butterfly_AkPnBsdf.tsv',\n",
       " 'MAPS_MUS-mz_332_2_StbgTGd2.tsv',\n",
       " 'MAPS_MUS-mz_331_2_AkPnBcht.tsv',\n",
       " 'MAPS_MUS-mz_331_1_SptkBGCl.tsv',\n",
       " 'MAPS_MUS-mond_1_AkPnBsdf.tsv',\n",
       " 'MAPS_MUS-mendel_op62_5_SptkBGAm.tsv',\n",
       " 'MAPS_MUS-chpn-p6_SptkBGCl.tsv',\n",
       " 'MAPS_MUS-gra_esp_2_AkPnStgb.tsv',\n",
       " 'MAPS_MUS-schumm-1_AkPnStgb.tsv',\n",
       " 'MAPS_MUS-br_im2_AkPnCGdD.tsv',\n",
       " 'MAPS_MUS-chpn_op66_ENSTDkAm.tsv',\n",
       " 'MAPS_MUS-scn16_4_AkPnCGdD.tsv',\n",
       " 'MAPS_MUS-scn15_11_ENSTDkAm.tsv',\n",
       " 'MAPS_MUS-bach_846_AkPnBcht.tsv',\n",
       " 'MAPS_MUS-scn15_7_SptkBGAm.tsv',\n",
       " 'MAPS_MUS-pathetique_3_ENSTDkAm.tsv',\n",
       " 'MAPS_MUS-ty_juli_AkPnBsdf.tsv',\n",
       " 'MAPS_MUS-schumm-6_AkPnBcht.tsv',\n",
       " 'MAPS_MUS-alb_se6_AkPnStgb.tsv',\n",
       " 'MAPS_MUS-scn16_4_ENSTDkCl.tsv',\n",
       " 'MAPS_MUS-chpn-p1_AkPnBsdf.tsv',\n",
       " 'MAPS_MUS-mz_331_2_AkPnBsdf.tsv',\n",
       " 'MAPS_MUS-chpn-p19_AkPnBsdf.tsv',\n",
       " 'MAPS_MUS-appass_1_AkPnBsdf.tsv',\n",
       " 'MAPS_MUS-ty_mai_ENSTDkAm.tsv',\n",
       " 'MAPS_MUS-chpn-p14_AkPnCGdD.tsv',\n",
       " 'MAPS_MUS-chpn_op35_1_ENSTDkAm.tsv',\n",
       " 'MAPS_MUS-schub_d760_1_AkPnBcht.tsv',\n",
       " 'MAPS_MUS-scn16_4_AkPnBsdf.tsv',\n",
       " 'MAPS_MUS-alb_se2_StbgTGd2.tsv',\n",
       " 'MAPS_MUS-scn15_9_ENSTDkAm.tsv',\n",
       " 'MAPS_MUS-ty_juli_AkPnBcht.tsv',\n",
       " 'MAPS_MUS-chpn-p4_AkPnBcht.tsv',\n",
       " 'MAPS_MUS-liz_rhap09_StbgTGd2.tsv',\n",
       " 'MAPS_MUS-hay_40_1_AkPnBcht.tsv',\n",
       " 'MAPS_MUS-chp_op18_AkPnCGdD.tsv',\n",
       " 'MAPS_MUS-chpn_op25_e4_ENSTDkAm.tsv',\n",
       " 'MAPS_MUS-grieg_zwerge_AkPnBcht.tsv',\n",
       " 'MAPS_MUS-burg_perlen_SptkBGCl.tsv',\n",
       " 'MAPS_MUS-ty_mai_AkPnBcht.tsv',\n",
       " 'MAPS_MUS-deb_menu_ENSTDkCl.tsv',\n",
       " 'MAPS_MUS-liz_rhap09_SptkBGCl.tsv',\n",
       " 'MAPS_MUS-chpn_op27_2_SptkBGCl.tsv',\n",
       " 'MAPS_MUS-chpn_op7_2_SptkBGAm.tsv',\n",
       " 'MAPS_MUS-chpn_op10_e05_SptkBGAm.tsv',\n",
       " 'MAPS_MUS-pathetique_1_StbgTGd2.tsv',\n",
       " 'MAPS_MUS-bk_xmas5_ENSTDkCl.tsv',\n",
       " 'MAPS_MUS-bach_850_AkPnBsdf.tsv',\n",
       " 'MAPS_MUS-deb_menu_StbgTGd2.tsv',\n",
       " 'MAPS_MUS-schumm-2_SptkBGAm.tsv',\n",
       " 'MAPS_MUS-scn15_12_ENSTDkCl.tsv',\n",
       " 'MAPS_MUS-alb_esp2_SptkBGCl.tsv',\n",
       " 'MAPS_MUS-chpn-p10_AkPnStgb.tsv',\n",
       " 'MAPS_MUS-chpn-p16_AkPnStgb.tsv',\n",
       " 'MAPS_MUS-mond_2_SptkBGAm.tsv',\n",
       " 'MAPS_MUS-mz_331_2_StbgTGd2.tsv',\n",
       " 'MAPS_MUS-liz_et5_AkPnCGdD.tsv',\n",
       " 'MAPS_MUS-chpn_op27_1_AkPnCGdD.tsv',\n",
       " 'MAPS_MUS-mz_333_2_ENSTDkCl.tsv',\n",
       " 'MAPS_MUS-scn16_4_SptkBGCl.tsv',\n",
       " 'MAPS_MUS-grieg_butterfly_ENSTDkAm.tsv',\n",
       " 'MAPS_MUS-chpn-p20_AkPnCGdD.tsv',\n",
       " 'MAPS_MUS-br_im5_AkPnCGdD.tsv',\n",
       " 'MAPS_MUS-mz_311_1_ENSTDkCl.tsv',\n",
       " 'MAPS_MUS-chpn-p7_AkPnCGdD.tsv',\n",
       " 'MAPS_MUS-bk_xmas4_SptkBGCl.tsv',\n",
       " 'MAPS_MUS-bk_xmas5_StbgTGd2.tsv',\n",
       " 'MAPS_MUS-chpn-p9_AkPnBsdf.tsv',\n",
       " 'MAPS_MUS-chpn-e01_ENSTDkCl.tsv',\n",
       " 'MAPS_MUS-mz_545_3_ENSTDkCl.tsv',\n",
       " 'MAPS_MUS-gra_esp_4_AkPnBcht.tsv',\n",
       " 'MAPS_MUS-chpn-p24_AkPnBcht.tsv',\n",
       " 'MAPS_MUS-chpn-p6_SptkBGAm.tsv',\n",
       " 'MAPS_MUS-waldstein_3_SptkBGCl.tsv',\n",
       " 'MAPS_MUS-chpn_op66_AkPnBcht.tsv',\n",
       " 'MAPS_MUS-alb_se2_ENSTDkCl.tsv',\n",
       " 'MAPS_MUS-bk_xmas4_ENSTDkCl.tsv',\n",
       " 'MAPS_MUS-chpn-p14_AkPnBcht.tsv',\n",
       " 'MAPS_MUS-liz_et3_AkPnStgb.tsv',\n",
       " 'MAPS_MUS-bk_xmas2_SptkBGCl.tsv',\n",
       " 'MAPS_MUS-alb_esp2_SptkBGAm.tsv',\n",
       " 'MAPS_MUS-bk_xmas1_AkPnStgb.tsv',\n",
       " 'MAPS_MUS-schumm-1_ENSTDkAm.tsv',\n",
       " 'MAPS_MUS-grieg_wanderer_AkPnBsdf.tsv',\n",
       " 'MAPS_MUS-ty_januar_AkPnStgb.tsv',\n",
       " 'MAPS_MUS-ty_mai_SptkBGAm.tsv',\n",
       " 'MAPS_MUS-chpn_op33_4_SptkBGAm.tsv',\n",
       " 'MAPS_MUS-scn16_4_StbgTGd2.tsv',\n",
       " 'MAPS_MUS-schu_143_3_ENSTDkCl.tsv',\n",
       " 'MAPS_MUS-schu_143_3_StbgTGd2.tsv',\n",
       " 'MAPS_MUS-chpn_op25_e3_ENSTDkAm.tsv',\n",
       " 'MAPS_MUS-ty_maerz_ENSTDkAm.tsv',\n",
       " 'MAPS_MUS-mz_331_3_ENSTDkCl.tsv',\n",
       " 'MAPS_MUS-liz_rhap09_ENSTDkAm.tsv',\n",
       " 'MAPS_MUS-chpn-p7_SptkBGCl.tsv',\n",
       " 'MAPS_MUS-liz_rhap10_AkPnBsdf.tsv',\n",
       " 'MAPS_MUS-grieg_halling_AkPnBsdf.tsv',\n",
       " 'MAPS_MUS-schumm-3_AkPnStgb.tsv',\n",
       " 'MAPS_MUS-mz_333_2_StbgTGd2.tsv',\n",
       " 'MAPS_MUS-scn16_3_ENSTDkCl.tsv',\n",
       " 'MAPS_MUS-muss_2_AkPnCGdD.tsv',\n",
       " 'MAPS_MUS-alb_esp4_AkPnStgb.tsv',\n",
       " 'MAPS_MUS-grieg_kobold_AkPnCGdD.tsv',\n",
       " 'MAPS_MUS-pathetique_1_ENSTDkCl.tsv',\n",
       " 'MAPS_MUS-schub_d760_3_ENSTDkAm.tsv',\n",
       " 'MAPS_MUS-bk_xmas1_AkPnBsdf.tsv',\n",
       " 'MAPS_MUS-liz_rhap12_ENSTDkAm.tsv',\n",
       " 'MAPS_MUS-bk_xmas1_ENSTDkAm.tsv',\n",
       " 'MAPS_MUS-chpn_op10_e12_AkPnCGdD.tsv',\n",
       " 'MAPS_MUS-chpn_op10_e01_AkPnCGdD.tsv',\n",
       " 'MAPS_MUS-scn15_7_AkPnBcht.tsv',\n",
       " 'MAPS_MUS-chpn-p11-format0_AkPnCGdD.tsv',\n",
       " 'MAPS_MUS-liz_rhap09_ENSTDkCl.tsv',\n",
       " 'MAPS_MUS-bor_ps5_AkPnStgb.tsv',\n",
       " 'MAPS_MUS-liz_et2_AkPnStgb.tsv',\n",
       " 'MAPS_MUS-appass_3_AkPnStgb.tsv',\n",
       " 'MAPS_MUS-muss_5_AkPnBcht.tsv',\n",
       " 'MAPS_MUS-alb_esp2_AkPnCGdD.tsv',\n",
       " 'MAPS_MUS-grieg_kobold_ENSTDkAm.tsv',\n",
       " 'MAPS_MUS-chpn_op35_3_AkPnStgb.tsv',\n",
       " 'MAPS_MUS-ty_maerz_ENSTDkCl.tsv',\n",
       " 'MAPS_MUS-br_im6_AkPnStgb.tsv',\n",
       " 'MAPS_MUS-bk_xmas5_AkPnCGdD.tsv',\n",
       " 'MAPS_MUS-bk_xmas1_ENSTDkCl.tsv',\n",
       " 'MAPS_MUS-pathetique_2_ENSTDkAm.tsv',\n",
       " 'MAPS_MUS-mond_2_SptkBGCl.tsv',\n",
       " 'MAPS_MUS-schu_143_2_AkPnCGdD.tsv',\n",
       " 'MAPS_MUS-scn16_2_AkPnBcht.tsv',\n",
       " 'MAPS_MUS-chpn-p11_AkPnCGdD.tsv',\n",
       " 'MAPS_MUS-grieg_kobold_AkPnStgb.tsv',\n",
       " 'MAPS_MUS-scn15_11_StbgTGd2.tsv',\n",
       " 'MAPS_MUS-liz_et2_SptkBGAm.tsv',\n",
       " 'MAPS_MUS-liz_et6_AkPnCGdD.tsv',\n",
       " 'MAPS_MUS-grieg_waechter_AkPnBcht.tsv',\n",
       " 'MAPS_MUS-liz_rhap02_AkPnCGdD.tsv',\n",
       " 'MAPS_MUS-mz_311_1_StbgTGd2.tsv',\n",
       " 'MAPS_MUS-scn15_3_AkPnBcht.tsv',\n",
       " 'MAPS_MUS-liz_et_trans5_AkPnCGdD.tsv',\n",
       " 'MAPS_MUS-gra_esp_3_SptkBGCl.tsv',\n",
       " 'MAPS_MUS-chpn-e01_StbgTGd2.tsv',\n",
       " 'MAPS_MUS-bk_xmas5_AkPnBcht.tsv',\n",
       " 'MAPS_MUS-ty_september_AkPnStgb.tsv',\n",
       " 'MAPS_MUS-br_im5_AkPnBsdf.tsv',\n",
       " 'MAPS_MUS-mz_545_3_StbgTGd2.tsv',\n",
       " 'MAPS_MUS-bach_847_AkPnBcht.tsv',\n",
       " 'MAPS_MUS-ty_februar_AkPnCGdD.tsv',\n",
       " 'MAPS_MUS-chpn_op33_2_SptkBGAm.tsv',\n",
       " 'MAPS_MUS-grieg_butterfly_ENSTDkCl.tsv',\n",
       " 'MAPS_MUS-liz_et_trans5_ENSTDkCl.tsv',\n",
       " 'MAPS_MUS-pathetique_1_SptkBGCl.tsv',\n",
       " 'MAPS_MUS-grieg_elfentanz_SptkBGAm.tsv',\n",
       " 'MAPS_MUS-mz_331_3_StbgTGd2.tsv',\n",
       " 'MAPS_MUS-mz_333_3_ENSTDkCl.tsv',\n",
       " 'MAPS_MUS-bor_ps6_AkPnBsdf.tsv',\n",
       " 'MAPS_MUS-ty_november_ENSTDkAm.tsv',\n",
       " 'MAPS_MUS-gra_esp_3_SptkBGAm.tsv',\n",
       " 'MAPS_MUS-grieg_wanderer_SptkBGAm.tsv',\n",
       " 'MAPS_MUS-appass_1_SptkBGCl.tsv',\n",
       " 'MAPS_MUS-alb_esp5_SptkBGCl.tsv',\n",
       " 'MAPS_MUS-chpn-p21_AkPnBsdf.tsv',\n",
       " 'MAPS_MUS-chpn-p19_StbgTGd2.tsv',\n",
       " 'MAPS_MUS-schuim-1_ENSTDkCl.tsv',\n",
       " 'MAPS_MUS-alb_se3_AkPnBsdf.tsv',\n",
       " 'MAPS_MUS-scn15_5_SptkBGCl.tsv',\n",
       " 'MAPS_MUS-alb_esp6_SptkBGCl.tsv',\n",
       " 'MAPS_MUS-liz_et6_StbgTGd2.tsv',\n",
       " 'MAPS_MUS-waldstein_1_ENSTDkAm.tsv',\n",
       " 'MAPS_MUS-chpn_op33_2_ENSTDkAm.tsv',\n",
       " 'MAPS_MUS-ty_mai_ENSTDkCl.tsv',\n",
       " 'MAPS_MUS-alb_se3_AkPnBcht.tsv',\n",
       " 'MAPS_MUS-mz_333_1_AkPnStgb.tsv',\n",
       " 'MAPS_MUS-chpn-p4_AkPnBsdf.tsv',\n",
       " 'MAPS_MUS-mz_331_3_AkPnBsdf.tsv',\n",
       " 'MAPS_MUS-scn15_6_ENSTDkAm.tsv',\n",
       " 'MAPS_MUS-schub_d960_3_SptkBGCl.tsv',\n",
       " 'MAPS_MUS-bk_xmas4_StbgTGd2.tsv',\n",
       " 'MAPS_MUS-ty_november_SptkBGCl.tsv',\n",
       " 'MAPS_MUS-alb_se4_AkPnBsdf.tsv',\n",
       " 'MAPS_MUS-chp_op31_AkPnBcht.tsv',\n",
       " 'MAPS_MUS-ty_oktober_SptkBGAm.tsv',\n",
       " 'MAPS_MUS-chpn-p14_ENSTDkAm.tsv',\n",
       " 'MAPS_MUS-mz_570_1_StbgTGd2.tsv',\n",
       " 'MAPS_MUS-liz_et_trans4_SptkBGAm.tsv',\n",
       " 'MAPS_MUS-grieg_walzer_AkPnBcht.tsv']"
      ]
     },
     "execution_count": 22,
     "metadata": {},
     "output_type": "execute_result"
    }
   ],
   "source": [
    "os.listdir('./data/MAPS/tsv/matched')"
   ]
  },
  {
   "cell_type": "code",
   "execution_count": 23,
   "metadata": {},
   "outputs": [],
   "source": [
    "# np.loadtxt('./data/MAPS/tsv/matched/MAPS_MUS-muss_1_ENSTDkAm.tsv')"
   ]
  },
  {
   "cell_type": "code",
   "execution_count": 24,
   "metadata": {},
   "outputs": [],
   "source": [
    "midi = pd.read_csv('./test_audio/1759.csv')"
   ]
  },
  {
   "cell_type": "code",
   "execution_count": 25,
   "metadata": {},
   "outputs": [
    {
     "data": {
      "text/plain": [
       "torch.Size([1, 12167, 88])"
      ]
     },
     "execution_count": 25,
     "metadata": {},
     "output_type": "execute_result"
    }
   ],
   "source": [
    "frame_pred.shape"
   ]
  },
  {
   "cell_type": "code",
   "execution_count": 26,
   "metadata": {},
   "outputs": [],
   "source": [
    "n_steps = len(audio-1)//HOP_LENGTH + 1\n",
    "n_keys = 88"
   ]
  },
  {
   "cell_type": "code",
   "execution_count": 27,
   "metadata": {},
   "outputs": [],
   "source": [
    "label = torch.zeros(n_steps, n_keys, dtype=torch.uint8)\n",
    "for idx, data in midi.iterrows():\n",
    "    onset = data['start_time']\n",
    "    offset = data['end_time']\n",
    "    note = data['note']\n",
    "    \n",
    "    left = int(round(onset / 44100 * SAMPLE_RATE / HOP_LENGTH)) # Convert time to time step\n",
    "    onset_right = min(n_steps, left + HOPS_IN_ONSET) # Ensure the time step of onset would not exceed the last time step\n",
    "    frame_right = int(round(offset / 44100 * SAMPLE_RATE / HOP_LENGTH))\n",
    "    frame_right = min(n_steps, frame_right) # Ensure the time step of frame would not exceed the last time step\n",
    "    offset_right = min(n_steps, frame_right + HOPS_IN_OFFSET)    \n",
    "\n",
    "#     print(f'left = {left}')\n",
    "#     print(f'right = {frame_right}')\n",
    "    \n",
    "    f = int(note) - MIN_MIDI\n",
    "    label[left:onset_right, f] = 3\n",
    "    label[onset_right:frame_right, f] = 2\n",
    "#     label[frame_right:offset_right, f] = 1"
   ]
  },
  {
   "cell_type": "code",
   "execution_count": 28,
   "metadata": {},
   "outputs": [],
   "source": [
    "p_ref, i_ref = extract_notes_wo_velocity((label == 3).float(), (label > 1).float(), 0.5, 0.5)\n",
    "p_est, i_est = extract_notes_wo_velocity(onset_pred[0], frame_pred[0], 0.5, 0.5)"
   ]
  },
  {
   "cell_type": "code",
   "execution_count": 29,
   "metadata": {},
   "outputs": [],
   "source": [
    "t_est, f_est = notes_to_frames(p_est, i_est, frame_pred[0].shape)"
   ]
  },
  {
   "cell_type": "code",
   "execution_count": 30,
   "metadata": {},
   "outputs": [],
   "source": [
    "t_ref, f_ref = notes_to_frames(p_ref, i_ref, (label > 1).float().shape)"
   ]
  },
  {
   "cell_type": "code",
   "execution_count": 31,
   "metadata": {},
   "outputs": [],
   "source": [
    "scaling = HOP_LENGTH / SAMPLE_RATE\n",
    "\n",
    "# Converting time steps to seconds and midi number to frequency\n",
    "i_ref = (i_ref * scaling).reshape(-1, 2)\n",
    "p_ref = np.array([midi_to_hz(MIN_MIDI + midi) for midi in p_ref])\n",
    "i_est = (i_est * scaling).reshape(-1, 2)\n",
    "p_est = np.array([midi_to_hz(MIN_MIDI + midi) for midi in p_est])\n",
    "\n",
    "t_ref = t_ref.astype(np.float64) * scaling\n",
    "f_ref = [np.array([midi_to_hz(MIN_MIDI + midi) for midi in freqs]) for freqs in f_ref]\n",
    "t_est = t_est.astype(np.float64) * scaling\n",
    "f_est = [np.array([midi_to_hz(MIN_MIDI + midi) for midi in freqs]) for freqs in f_est]\n"
   ]
  },
  {
   "cell_type": "code",
   "execution_count": 32,
   "metadata": {},
   "outputs": [],
   "source": [
    "p, r, f, o = evaluate_notes(i_ref, p_ref, i_est, p_est, offset_ratio=None)"
   ]
  },
  {
   "cell_type": "code",
   "execution_count": 33,
   "metadata": {},
   "outputs": [],
   "source": [
    "frame_metrics = evaluate_frames(t_ref, f_ref, t_est, f_est)"
   ]
  },
  {
   "cell_type": "code",
   "execution_count": 34,
   "metadata": {},
   "outputs": [
    {
     "name": "stdout",
     "output_type": "stream",
     "text": [
      "precision=0.5092\trecall=0.3717\tF1 score=0.4297\n"
     ]
    }
   ],
   "source": [
    "print(f'precision={p:.4f}\\trecall={r:.4f}\\tF1 score={f:.4f}')"
   ]
  },
  {
   "cell_type": "code",
   "execution_count": 35,
   "metadata": {},
   "outputs": [
    {
     "data": {
      "text/plain": [
       "OrderedDict([('Precision', 0.6700946419256278),\n",
       "             ('Recall', 0.27166983896794467),\n",
       "             ('Accuracy', 0.23962052976602888),\n",
       "             ('Substitution Error', 0.09646817124384423),\n",
       "             ('Miss Error', 0.6318619897882112),\n",
       "             ('False Alarm Error', 0.037282093114595606),\n",
       "             ('Total Error', 0.7656122541466509),\n",
       "             ('Chroma Precision', 0.7345554810343543),\n",
       "             ('Chroma Recall', 0.29780355901990996),\n",
       "             ('Chroma Accuracy', 0.2688688251820736),\n",
       "             ('Chroma Substitution Error', 0.07033445119187891),\n",
       "             ('Chroma Miss Error', 0.6318619897882112),\n",
       "             ('Chroma False Alarm Error', 0.037282093114595606),\n",
       "             ('Chroma Total Error', 0.7394785340946857)])"
      ]
     },
     "execution_count": 35,
     "metadata": {},
     "output_type": "execute_result"
    }
   ],
   "source": [
    "frame_metrics"
   ]
  },
  {
   "cell_type": "code",
   "execution_count": null,
   "metadata": {},
   "outputs": [],
   "source": []
  }
 ],
 "metadata": {
  "kernelspec": {
   "display_name": "Python 3",
   "language": "python",
   "name": "python3"
  },
  "language_info": {
   "codemirror_mode": {
    "name": "ipython",
    "version": 3
   },
   "file_extension": ".py",
   "mimetype": "text/x-python",
   "name": "python",
   "nbconvert_exporter": "python",
   "pygments_lexer": "ipython3",
   "version": "3.6.8"
  }
 },
 "nbformat": 4,
 "nbformat_minor": 2
}
