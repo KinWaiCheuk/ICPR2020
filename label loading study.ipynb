{
 "cells": [
  {
   "cell_type": "code",
   "execution_count": 1,
   "metadata": {},
   "outputs": [],
   "source": [
    "import json\n",
    "import os\n",
    "from abc import abstractmethod\n",
    "from glob import glob\n",
    "\n",
    "import numpy as np\n",
    "import soundfile\n",
    "import torch\n",
    "from torch.utils.data import Dataset\n",
    "from tqdm import tqdm"
   ]
  },
  {
   "cell_type": "code",
   "execution_count": 2,
   "metadata": {},
   "outputs": [],
   "source": [
    "SAMPLE_RATE = 16000\n",
    "HOP_LENGTH = SAMPLE_RATE * 32 // 1000\n",
    "ONSET_LENGTH = SAMPLE_RATE * 32 // 1000\n",
    "OFFSET_LENGTH = SAMPLE_RATE * 32 // 1000\n",
    "HOPS_IN_ONSET = ONSET_LENGTH // HOP_LENGTH\n",
    "HOPS_IN_OFFSET = OFFSET_LENGTH // HOP_LENGTH\n",
    "MIN_MIDI = 21\n",
    "MAX_MIDI = 108\n",
    "\n",
    "N_MELS = 229\n",
    "MEL_FMIN = 30\n",
    "MEL_FMAX = SAMPLE_RATE // 2\n",
    "WINDOW_LENGTH = 2048\n",
    "\n",
    "DEFAULT_DEVICE = 'cuda' if torch.cuda.is_available() else 'cpu'"
   ]
  },
  {
   "cell_type": "code",
   "execution_count": 3,
   "metadata": {},
   "outputs": [
    {
     "name": "stderr",
     "output_type": "stream",
     "text": [
      "  0%|          | 0/2 [00:00<?, ?it/s]ignoring non-MIDI file -f\n",
      "ignoring non-MIDI file /root/.local/share/jupyter/runtime/kernel-5646da25-b502-40d8-a409-11d01f076342.json\n",
      "100%|██████████| 2/2 [00:00<00:00, 4126.22it/s]\n"
     ]
    }
   ],
   "source": [
    "import multiprocessing\n",
    "import sys\n",
    "\n",
    "import mido\n",
    "import numpy as np\n",
    "from joblib import Parallel, delayed\n",
    "from mido import Message, MidiFile, MidiTrack\n",
    "from mir_eval.util import hz_to_midi\n",
    "from tqdm import tqdm\n",
    "\n",
    "\n",
    "def parse_midi(path):\n",
    "    \"\"\"open midi file and return np.array of (onset, offset, note, velocity) rows\"\"\"\n",
    "    midi = mido.MidiFile(path)\n",
    "\n",
    "    time = 0\n",
    "    sustain = False\n",
    "    events = []\n",
    "    for message in midi:\n",
    "        time += message.time\n",
    "\n",
    "        if message.type == 'control_change' and message.control == 64 and (message.value >= 64) != sustain:\n",
    "            # sustain pedal state has just changed\n",
    "            sustain = message.value >= 64\n",
    "            event_type = 'sustain_on' if sustain else 'sustain_off'\n",
    "            event = dict(index=len(events), time=time, type=event_type, note=None, velocity=0)\n",
    "            events.append(event)\n",
    "\n",
    "        if 'note' in message.type:\n",
    "            # MIDI offsets can be either 'note_off' events or 'note_on' with zero velocity\n",
    "            velocity = message.velocity if message.type == 'note_on' else 0\n",
    "            event = dict(index=len(events), time=time, type='note', note=message.note, velocity=velocity, sustain=sustain)\n",
    "            events.append(event)\n",
    "\n",
    "    notes = []\n",
    "    for i, onset in enumerate(events):\n",
    "        if onset['velocity'] == 0:\n",
    "            continue\n",
    "\n",
    "        # find the next note_off message\n",
    "        offset = next(n for n in events[i + 1:] if n['note'] == onset['note'] or n is events[-1])\n",
    "\n",
    "        if offset['sustain'] and offset is not events[-1]:\n",
    "            # if the sustain pedal is active at offset, find when the sustain ends\n",
    "            offset = next(n for n in events[offset['index'] + 1:] if n['type'] == 'sustain_off' or n is events[-1])\n",
    "\n",
    "        note = (onset['time'], offset['time'], onset['note'], onset['velocity'])\n",
    "        notes.append(note)\n",
    "\n",
    "    return np.array(notes)\n",
    "\n",
    "\n",
    "def save_midi(path, pitches, intervals, velocities):\n",
    "    \"\"\"\n",
    "    Save extracted notes as a MIDI file\n",
    "    Parameters\n",
    "    ----------\n",
    "    path: the path to save the MIDI file\n",
    "    pitches: np.ndarray of bin_indices\n",
    "    intervals: list of (onset_index, offset_index)\n",
    "    velocities: list of velocity values\n",
    "    \"\"\"\n",
    "    file = MidiFile()\n",
    "    track = MidiTrack()\n",
    "    file.tracks.append(track)\n",
    "    ticks_per_second = file.ticks_per_beat * 2.0\n",
    "\n",
    "    events = []\n",
    "    for i in range(len(pitches)):\n",
    "        events.append(dict(type='on', pitch=pitches[i], time=intervals[i][0], velocity=velocities[i]))\n",
    "        events.append(dict(type='off', pitch=pitches[i], time=intervals[i][1], velocity=velocities[i]))\n",
    "    events.sort(key=lambda row: row['time'])\n",
    "\n",
    "    last_tick = 0\n",
    "    for event in events:\n",
    "        current_tick = int(event['time'] * ticks_per_second)\n",
    "        velocity = int(event['velocity'] * 127)\n",
    "        if velocity > 127:\n",
    "            velocity = 127\n",
    "        pitch = int(round(hz_to_midi(event['pitch'])))\n",
    "        track.append(Message('note_' + event['type'], note=pitch, velocity=velocity, time=current_tick - last_tick))\n",
    "        last_tick = current_tick\n",
    "\n",
    "    file.save(path)\n",
    "\n",
    "\n",
    "if __name__ == '__main__':\n",
    "\n",
    "    def process(input_file, output_file):\n",
    "        midi_data = parse_midi(input_file)\n",
    "        np.savetxt(output_file, midi_data, '%.6f', '\\t', header='onset\\toffset\\tnote\\tvelocity')\n",
    "\n",
    "\n",
    "    def files():\n",
    "        for input_file in tqdm(sys.argv[1:]):\n",
    "            if input_file.endswith('.mid'):\n",
    "                output_file = input_file[:-4] + '.tsv'\n",
    "            elif input_file.endswith('.midi'):\n",
    "                output_file = input_file[:-5] + '.tsv'\n",
    "            else:\n",
    "                print('ignoring non-MIDI file %s' % input_file, file=sys.stderr)\n",
    "                continue\n",
    "\n",
    "            yield (input_file, output_file)\n",
    "\n",
    "    Parallel(n_jobs=multiprocessing.cpu_count())(delayed(process)(in_file, out_file) for in_file, out_file in files())\n"
   ]
  },
  {
   "cell_type": "code",
   "execution_count": 4,
   "metadata": {},
   "outputs": [],
   "source": [
    "class PianoRollAudioDataset(Dataset):\n",
    "    def __init__(self, path, groups=None, sequence_length=None, seed=42, device=DEFAULT_DEVICE):\n",
    "        self.path = path\n",
    "        self.groups = groups if groups is not None else self.available_groups()\n",
    "        self.sequence_length = sequence_length\n",
    "        self.device = device\n",
    "        self.random = np.random.RandomState(seed)\n",
    "\n",
    "        self.data = []\n",
    "        print(f\"Loading {len(groups)} group{'s' if len(groups) > 1 else ''} \"\n",
    "              f\"of {self.__class__.__name__} at {path}\")\n",
    "        for group in groups:\n",
    "            for input_files in tqdm(self.files(group), desc='Loading group %s' % group): #self.files is defined in MAPS class\n",
    "                self.data.append(self.load(*input_files)) # self.load is a function defined below. It first loads all data into memory first\n",
    "\n",
    "    def __getitem__(self, index):\n",
    "        data = self.data[index]\n",
    "        result = dict(path=data['path'])\n",
    "\n",
    "        if self.sequence_length is not None:\n",
    "            audio_length = len(data['audio'])\n",
    "            step_begin = self.random.randint(audio_length - self.sequence_length) // HOP_LENGTH\n",
    "            n_steps = self.sequence_length // HOP_LENGTH\n",
    "            step_end = step_begin + n_steps\n",
    "\n",
    "            begin = step_begin * HOP_LENGTH\n",
    "            end = begin + self.sequence_length\n",
    "\n",
    "            result['audio'] = data['audio'][begin:end].to(self.device)\n",
    "            result['label'] = data['label'][step_begin:step_end, :].to(self.device)\n",
    "            result['velocity'] = data['velocity'][step_begin:step_end, :].to(self.device)\n",
    "        else:\n",
    "            result['audio'] = data['audio'].to(self.device)\n",
    "            result['label'] = data['label'].to(self.device)\n",
    "            result['velocity'] = data['velocity'].to(self.device).float()\n",
    "\n",
    "        result['audio'] = result['audio'].float().div_(32768.0) # converting to float by dividing it by 2^15\n",
    "        result['onset'] = (result['label'] == 3).float()\n",
    "        result['offset'] = (result['label'] == 1).float()\n",
    "        result['frame'] = (result['label'] > 1).float()\n",
    "        result['velocity'] = result['velocity'].float().div_(128.0)\n",
    "\n",
    "        return result\n",
    "\n",
    "    def __len__(self):\n",
    "        return len(self.data)\n",
    "\n",
    "    @classmethod # This one seems optional?\n",
    "    @abstractmethod # This is to make sure other subclasses also contain this method\n",
    "    def available_groups(cls):\n",
    "        \"\"\"return the names of all available groups\"\"\"\n",
    "        raise NotImplementedError\n",
    "\n",
    "    @abstractmethod\n",
    "    def files(self, group):\n",
    "        \"\"\"return the list of input files (audio_filename, tsv_filename) for this group\"\"\"\n",
    "        raise NotImplementedError\n",
    "\n",
    "    def load(self, audio_path, tsv_path):\n",
    "        \"\"\"\n",
    "        load an audio track and the corresponding labels\n",
    "\n",
    "        Returns\n",
    "        -------\n",
    "            A dictionary containing the following data:\n",
    "\n",
    "            path: str\n",
    "                the path to the audio file\n",
    "\n",
    "            audio: torch.ShortTensor, shape = [num_samples]\n",
    "                the raw waveform\n",
    "\n",
    "            label: torch.ByteTensor, shape = [num_steps, midi_bins]\n",
    "                a matrix that contains the onset/offset/frame labels encoded as:\n",
    "                3 = onset, 2 = frames after onset, 1 = offset, 0 = all else\n",
    "\n",
    "            velocity: torch.ByteTensor, shape = [num_steps, midi_bins]\n",
    "                a matrix that contains MIDI velocity values at the frame locations\n",
    "        \"\"\"\n",
    "        saved_data_path = audio_path.replace('.flac', '.pt').replace('.wav', '.pt')\n",
    "        if os.path.exists(saved_data_path): # Check if files exist, if so just load the files\n",
    "            return torch.load(saved_data_path)\n",
    "\n",
    "        audio, sr = soundfile.read(audio_path, dtype='int16')\n",
    "        assert sr == SAMPLE_RATE\n",
    "\n",
    "        audio = torch.ShortTensor(audio)\n",
    "        audio_length = len(audio)\n",
    "\n",
    "        n_keys = MAX_MIDI - MIN_MIDI + 1\n",
    "        n_steps = (audio_length - 1) // HOP_LENGTH + 1\n",
    "\n",
    "        label = torch.zeros(n_steps, n_keys, dtype=torch.uint8)\n",
    "        velocity = torch.zeros(n_steps, n_keys, dtype=torch.uint8)\n",
    "\n",
    "        tsv_path = tsv_path\n",
    "        midi = np.loadtxt(tsv_path, delimiter='\\t', skiprows=1)\n",
    "\n",
    "        for onset, offset, note, vel in midi:\n",
    "            left = int(round(onset * SAMPLE_RATE / HOP_LENGTH))\n",
    "            onset_right = min(n_steps, left + HOPS_IN_ONSET)\n",
    "            frame_right = int(round(offset * SAMPLE_RATE / HOP_LENGTH))\n",
    "            frame_right = min(n_steps, frame_right)\n",
    "            offset_right = min(n_steps, frame_right + HOPS_IN_OFFSET)\n",
    "\n",
    "            f = int(note) - MIN_MIDI\n",
    "            label[left:onset_right, f] = 3\n",
    "            label[onset_right:frame_right, f] = 2\n",
    "            label[frame_right:offset_right, f] = 1\n",
    "            velocity[left:frame_right, f] = vel\n",
    "\n",
    "        data = dict(path=audio_path, audio=audio, label=label, velocity=velocity)\n",
    "        torch.save(data, saved_data_path)\n",
    "        return data"
   ]
  },
  {
   "cell_type": "code",
   "execution_count": 5,
   "metadata": {},
   "outputs": [],
   "source": [
    "class MAPS(PianoRollAudioDataset):\n",
    "    def __init__(self, path='data/MAPS', groups=None, sequence_length=None, seed=42, device=DEFAULT_DEVICE):\n",
    "        super().__init__(path, groups if groups is not None else ['ENSTDkAm', 'ENSTDkCl'], sequence_length, seed, device)\n",
    "\n",
    "    @classmethod\n",
    "    def available_groups(cls):\n",
    "        return ['AkPnBcht', 'AkPnBsdf', 'AkPnCGdD', 'AkPnStgb', 'ENSTDkAm', 'ENSTDkCl', 'SptkBGAm', 'SptkBGCl', 'StbgTGd2']\n",
    "\n",
    "    def files(self, group):\n",
    "        flacs = glob(os.path.join(self.path, 'flac', '*_%s.flac' % group))\n",
    "        tsvs = [f.replace('/flac/', '/tsv/matched/').replace('.flac', '.tsv') for f in flacs]\n",
    "\n",
    "        assert(all(os.path.isfile(flac) for flac in flacs))\n",
    "        assert(all(os.path.isfile(tsv) for tsv in tsvs))\n",
    "\n",
    "        return sorted(zip(flacs, tsvs))"
   ]
  },
  {
   "cell_type": "code",
   "execution_count": 6,
   "metadata": {},
   "outputs": [],
   "source": [
    "path = './data/MAPS'\n",
    "group = 'AkPnBcht'"
   ]
  },
  {
   "cell_type": "code",
   "execution_count": 7,
   "metadata": {},
   "outputs": [],
   "source": [
    "flacs = glob(os.path.join(path, 'flac', '*_%s.flac' % group))\n",
    "tsvs = [f.replace('/flac/', '/tsv/matched/').replace('.flac', '.tsv') for f in flacs]"
   ]
  },
  {
   "cell_type": "code",
   "execution_count": 20,
   "metadata": {},
   "outputs": [],
   "source": [
    "def load(audio_path, tsv_path):\n",
    "    \"\"\"\n",
    "    load an audio track and the corresponding labels\n",
    "\n",
    "    Returns\n",
    "    -------\n",
    "        A dictionary containing the following data:\n",
    "\n",
    "        path: str\n",
    "            the path to the audio file\n",
    "\n",
    "        audio: torch.ShortTensor, shape = [num_samples]\n",
    "            the raw waveform\n",
    "\n",
    "        label: torch.ByteTensor, shape = [num_steps, midi_bins]\n",
    "            a matrix that contains the onset/offset/frame labels encoded as:\n",
    "            3 = onset, 2 = frames after onset, 1 = offset, 0 = all else\n",
    "\n",
    "        velocity: torch.ByteTensor, shape = [num_steps, midi_bins]\n",
    "            a matrix that contains MIDI velocity values at the frame locations\n",
    "    \"\"\"\n",
    "    saved_data_path = audio_path.replace('.flac', '.pt').replace('.wav', '.pt')\n",
    "    if os.path.exists(saved_data_path): # Check if files exist, if so just load the files\n",
    "        # This .pt file contains  \n",
    "        return torch.load(saved_data_path)\n",
    "\n",
    "    # If the pytorch version of the audio doesn't exist, make it here\n",
    "    audio, sr = soundfile.read(audio_path, dtype='int16')\n",
    "    assert sr == SAMPLE_RATE\n",
    "\n",
    "    audio = torch.ShortTensor(audio)\n",
    "    audio_length = len(audio)\n",
    "    print(f'audio_length = {audio_length}')\n",
    "\n",
    "    n_keys = MAX_MIDI - MIN_MIDI + 1\n",
    "    n_steps = (audio_length - 1) // HOP_LENGTH + 1\n",
    "\n",
    "    label = torch.zeros(n_steps, n_keys, dtype=torch.uint8)\n",
    "    velocity = torch.zeros(n_steps, n_keys, dtype=torch.uint8)\n",
    "\n",
    "    tsv_path = tsv_path\n",
    "    midi = np.loadtxt(tsv_path, delimiter='\\t', skiprows=1)\n",
    "\n",
    "    for onset, offset, note, vel in midi:\n",
    "        left = int(round(onset * SAMPLE_RATE / HOP_LENGTH))\n",
    "        onset_right = min(n_steps, left + HOPS_IN_ONSET)\n",
    "        frame_right = int(round(offset * SAMPLE_RATE / HOP_LENGTH))\n",
    "        frame_right = min(n_steps, frame_right)\n",
    "        offset_right = min(n_steps, frame_right + HOPS_IN_OFFSET)\n",
    "\n",
    "        f = int(note) - MIN_MIDI\n",
    "        label[left:onset_right, f] = 3\n",
    "        label[onset_right:frame_right, f] = 2\n",
    "        label[frame_right:offset_right, f] = 1\n",
    "        velocity[left:frame_right, f] = vel\n",
    "\n",
    "    data = dict(path=audio_path, audio=audio, label=label, velocity=velocity)\n",
    "    torch.save(data, saved_data_path)\n",
    "    return data"
   ]
  },
  {
   "cell_type": "code",
   "execution_count": 21,
   "metadata": {},
   "outputs": [
    {
     "name": "stderr",
     "output_type": "stream",
     "text": [
      "\r",
      "Loading group AkPnBcht:   0%|          | 0/30 [00:00<?, ?it/s]"
     ]
    },
    {
     "name": "stdout",
     "output_type": "stream",
     "text": [
      "audio_length = 4001245\n"
     ]
    },
    {
     "name": "stderr",
     "output_type": "stream",
     "text": [
      "Loading group AkPnBcht:   7%|▋         | 2/30 [00:00<00:07,  3.51it/s]"
     ]
    },
    {
     "name": "stdout",
     "output_type": "stream",
     "text": [
      "audio_length = 3648938\n",
      "audio_length = 3076092\n"
     ]
    },
    {
     "name": "stderr",
     "output_type": "stream",
     "text": [
      "\r",
      "Loading group AkPnBcht:  10%|█         | 3/30 [00:00<00:06,  3.87it/s]"
     ]
    },
    {
     "name": "stdout",
     "output_type": "stream",
     "text": [
      "audio_length = 6333250\n"
     ]
    },
    {
     "name": "stderr",
     "output_type": "stream",
     "text": [
      "\r",
      "Loading group AkPnBcht:  13%|█▎        | 4/30 [00:01<00:07,  3.47it/s]"
     ]
    },
    {
     "name": "stdout",
     "output_type": "stream",
     "text": [
      "audio_length = 8264879\n"
     ]
    },
    {
     "name": "stderr",
     "output_type": "stream",
     "text": [
      "Loading group AkPnBcht:  20%|██        | 6/30 [00:01<00:07,  3.31it/s]"
     ]
    },
    {
     "name": "stdout",
     "output_type": "stream",
     "text": [
      "audio_length = 946111\n",
      "audio_length = 2487763\n"
     ]
    },
    {
     "name": "stderr",
     "output_type": "stream",
     "text": [
      "\r",
      "Loading group AkPnBcht:  23%|██▎       | 7/30 [00:01<00:05,  4.09it/s]"
     ]
    },
    {
     "name": "stdout",
     "output_type": "stream",
     "text": [
      "audio_length = 474811\n",
      "audio_length = 531483\n",
      "audio_length = 2003501\n"
     ]
    },
    {
     "name": "stderr",
     "output_type": "stream",
     "text": [
      "Loading group AkPnBcht:  40%|████      | 12/30 [00:02<00:02,  6.39it/s]"
     ]
    },
    {
     "name": "stdout",
     "output_type": "stream",
     "text": [
      "audio_length = 858203\n",
      "audio_length = 1668363\n",
      "audio_length = 1458414\n"
     ]
    },
    {
     "name": "stderr",
     "output_type": "stream",
     "text": [
      "Loading group AkPnBcht:  47%|████▋     | 14/30 [00:02<00:02,  6.99it/s]"
     ]
    },
    {
     "name": "stdout",
     "output_type": "stream",
     "text": [
      "audio_length = 1460302\n",
      "audio_length = 4401535\n"
     ]
    },
    {
     "name": "stderr",
     "output_type": "stream",
     "text": [
      "Loading group AkPnBcht:  53%|█████▎    | 16/30 [00:03<00:02,  4.97it/s]"
     ]
    },
    {
     "name": "stdout",
     "output_type": "stream",
     "text": [
      "audio_length = 4558052\n",
      "audio_length = 2377947\n"
     ]
    },
    {
     "name": "stderr",
     "output_type": "stream",
     "text": [
      "\r",
      "Loading group AkPnBcht:  60%|██████    | 18/30 [00:03<00:01,  6.03it/s]"
     ]
    },
    {
     "name": "stdout",
     "output_type": "stream",
     "text": [
      "audio_length = 1767046\n",
      "audio_length = 2488294\n"
     ]
    },
    {
     "name": "stderr",
     "output_type": "stream",
     "text": [
      "\r",
      "Loading group AkPnBcht:  63%|██████▎   | 19/30 [00:03<00:01,  5.58it/s]"
     ]
    },
    {
     "name": "stdout",
     "output_type": "stream",
     "text": [
      "audio_length = 6349888\n"
     ]
    },
    {
     "name": "stderr",
     "output_type": "stream",
     "text": [
      "Loading group AkPnBcht:  70%|███████   | 21/30 [00:03<00:01,  4.92it/s]"
     ]
    },
    {
     "name": "stdout",
     "output_type": "stream",
     "text": [
      "audio_length = 1639156\n",
      "audio_length = 5882064\n"
     ]
    },
    {
     "name": "stderr",
     "output_type": "stream",
     "text": [
      "\r",
      "Loading group AkPnBcht:  73%|███████▎  | 22/30 [00:04<00:01,  4.29it/s]"
     ]
    },
    {
     "name": "stdout",
     "output_type": "stream",
     "text": [
      "audio_length = 11999525\n"
     ]
    },
    {
     "name": "stderr",
     "output_type": "stream",
     "text": [
      "\r",
      "Loading group AkPnBcht:  77%|███████▋  | 23/30 [00:04<00:02,  2.94it/s]"
     ]
    },
    {
     "name": "stdout",
     "output_type": "stream",
     "text": [
      "audio_length = 5662348\n"
     ]
    },
    {
     "name": "stderr",
     "output_type": "stream",
     "text": [
      "Loading group AkPnBcht:  83%|████████▎ | 25/30 [00:05<00:01,  2.95it/s]"
     ]
    },
    {
     "name": "stdout",
     "output_type": "stream",
     "text": [
      "audio_length = 5047215\n",
      "audio_length = 541741\n"
     ]
    },
    {
     "name": "stderr",
     "output_type": "stream",
     "text": [
      "\r",
      "Loading group AkPnBcht:  90%|█████████ | 27/30 [00:05<00:00,  3.92it/s]"
     ]
    },
    {
     "name": "stdout",
     "output_type": "stream",
     "text": [
      "audio_length = 2092786\n",
      "audio_length = 7077074\n"
     ]
    },
    {
     "name": "stderr",
     "output_type": "stream",
     "text": [
      "Loading group AkPnBcht:  97%|█████████▋| 29/30 [00:06<00:00,  4.13it/s]"
     ]
    },
    {
     "name": "stdout",
     "output_type": "stream",
     "text": [
      "audio_length = 1832770\n",
      "audio_length = 3104748\n"
     ]
    },
    {
     "name": "stderr",
     "output_type": "stream",
     "text": [
      "Loading group AkPnBcht: 100%|██████████| 30/30 [00:06<00:00,  4.79it/s]\n"
     ]
    }
   ],
   "source": [
    "data = []\n",
    "for input_files in tqdm(sorted(zip(flacs, tsvs)), desc='Loading group %s' % group):\n",
    "    data.append(load(*input_files))"
   ]
  },
  {
   "cell_type": "code",
   "execution_count": 22,
   "metadata": {},
   "outputs": [],
   "source": [
    "from nnAudio import Spectrogram"
   ]
  },
  {
   "cell_type": "code",
   "execution_count": 35,
   "metadata": {},
   "outputs": [],
   "source": [
    "audio, sr = soundfile.read(input_files[0], dtype='int16')\n",
    "assert sr == SAMPLE_RATE\n",
    "\n",
    "audio = torch.ShortTensor(audio)\n",
    "audio_length = len(audio)"
   ]
  },
  {
   "cell_type": "code",
   "execution_count": 121,
   "metadata": {},
   "outputs": [],
   "source": [
    "audio_list = []\n",
    "for i in flacs:\n",
    "    audio, sr = soundfile.read(i, dtype='int16')\n",
    "    audio_list.append(audio.shape[0])"
   ]
  },
  {
   "cell_type": "code",
   "execution_count": 123,
   "metadata": {},
   "outputs": [
    {
     "data": {
      "text/plain": [
       "474811"
      ]
     },
     "execution_count": 123,
     "metadata": {},
     "output_type": "execute_result"
    }
   ],
   "source": [
    "min(audio_list)"
   ]
  },
  {
   "cell_type": "code",
   "execution_count": 36,
   "metadata": {},
   "outputs": [],
   "source": [
    "n_keys = MAX_MIDI - MIN_MIDI + 1\n",
    "n_steps = (audio_length - 1) // HOP_LENGTH + 1"
   ]
  },
  {
   "cell_type": "code",
   "execution_count": 39,
   "metadata": {},
   "outputs": [],
   "source": [
    "label = torch.zeros(n_steps, n_keys, dtype=torch.uint8)\n",
    "velocity = torch.zeros(n_steps, n_keys, dtype=torch.uint8)"
   ]
  },
  {
   "cell_type": "code",
   "execution_count": 40,
   "metadata": {},
   "outputs": [],
   "source": [
    "midi = np.loadtxt(input_files[1], delimiter='\\t', skiprows=1)"
   ]
  },
  {
   "cell_type": "code",
   "execution_count": 45,
   "metadata": {},
   "outputs": [
    {
     "data": {
      "text/plain": [
       "array([[  0.529173,   1.935725,  50.      ,  33.      ],\n",
       "       [  0.59352 ,   1.935725,  57.      ,  37.      ],\n",
       "       [  0.65505 ,   1.842585,  62.      ,  40.      ],\n",
       "       ...,\n",
       "       [188.682262, 192.046746,  55.      ,  24.      ],\n",
       "       [188.682262, 192.046746,  59.      ,  25.      ],\n",
       "       [188.682262, 192.046746,  50.      ,  21.      ]])"
      ]
     },
     "execution_count": 45,
     "metadata": {},
     "output_type": "execute_result"
    }
   ],
   "source": [
    "midi"
   ]
  },
  {
   "cell_type": "code",
   "execution_count": 43,
   "metadata": {},
   "outputs": [],
   "source": [
    "onset, offset, note, vel = next(iter(midi))"
   ]
  },
  {
   "cell_type": "code",
   "execution_count": 50,
   "metadata": {},
   "outputs": [],
   "source": [
    "left = int(round(onset * SAMPLE_RATE / HOP_LENGTH))\n",
    "onset_right = min(n_steps, left + HOPS_IN_ONSET) # Ensure the time step of onset would not exceed the last time step\n",
    "frame_right = int(round(offset * SAMPLE_RATE / HOP_LENGTH))\n",
    "frame_right = min(n_steps, frame_right) # Ensure the time step of frame would not exceed the last time step\n",
    "offset_right = min(n_steps, frame_right + HOPS_IN_OFFSET)"
   ]
  },
  {
   "cell_type": "code",
   "execution_count": 54,
   "metadata": {},
   "outputs": [],
   "source": [
    "f = int(note) - MIN_MIDI"
   ]
  },
  {
   "cell_type": "code",
   "execution_count": 55,
   "metadata": {},
   "outputs": [],
   "source": [
    "label[left:onset_right, f] = 3"
   ]
  },
  {
   "cell_type": "code",
   "execution_count": 58,
   "metadata": {},
   "outputs": [],
   "source": [
    "import matplotlib.pyplot as plt"
   ]
  },
  {
   "cell_type": "code",
   "execution_count": 69,
   "metadata": {},
   "outputs": [
    {
     "data": {
      "text/plain": [
       "torch.Size([6064, 88])"
      ]
     },
     "execution_count": 69,
     "metadata": {},
     "output_type": "execute_result"
    }
   ],
   "source": [
    "label.shape"
   ]
  },
  {
   "cell_type": "code",
   "execution_count": 70,
   "metadata": {},
   "outputs": [
    {
     "data": {
      "text/plain": [
       "<matplotlib.image.AxesImage at 0x7f5a242c9668>"
      ]
     },
     "execution_count": 70,
     "metadata": {},
     "output_type": "execute_result"
    },
    {
     "data": {
      "image/png": "[encoded data removed]",
      "text/plain": [
       "<Figure size 1800x1200 with 1 Axes>"
      ]
     },
     "metadata": {
      "needs_background": "light"
     },
     "output_type": "display_data"
    }
   ],
   "source": [
    "plt.figure(dpi=300)\n",
    "plt.imshow(label[15:20].T, aspect='auto')"
   ]
  },
  {
   "cell_type": "code",
   "execution_count": 75,
   "metadata": {},
   "outputs": [],
   "source": [
    "from sacred import Experiment\n",
    "from sacred.commands import print_config, save_config\n",
    "from sacred.observers import FileStorageObserver"
   ]
  },
  {
   "cell_type": "code",
   "execution_count": 76,
   "metadata": {},
   "outputs": [
    {
     "ename": "RuntimeError",
     "evalue": "Defining an experiment in interactive mode! The sourcecode cannot be stored and the experiment won't be reproducible. If you still want to run it pass interactive=True",
     "output_type": "error",
     "traceback": [
      "\u001b[0;31m---------------------------------------------------------------------------\u001b[0m",
      "\u001b[0;31mRuntimeError\u001b[0m                              Traceback (most recent call last)",
      "\u001b[0;32m<ipython-input-76-6ea238b6f463>\u001b[0m in \u001b[0;36m<module>\u001b[0;34m\u001b[0m\n\u001b[0;32m----> 1\u001b[0;31m \u001b[0mex\u001b[0m \u001b[0;34m=\u001b[0m \u001b[0mExperiment\u001b[0m\u001b[0;34m(\u001b[0m\u001b[0;34m'train_transcriber'\u001b[0m\u001b[0;34m)\u001b[0m\u001b[0;34m\u001b[0m\u001b[0;34m\u001b[0m\u001b[0m\n\u001b[0m",
      "\u001b[0;32m/opt/conda/lib/python3.6/site-packages/sacred/experiment.py\u001b[0m in \u001b[0;36m__init__\u001b[0;34m(self, name, ingredients, interactive, base_dir, additional_host_info, additional_cli_options, save_git_info)\u001b[0m\n\u001b[1;32m    123\u001b[0m             \u001b[0mbase_dir\u001b[0m\u001b[0;34m=\u001b[0m\u001b[0mbase_dir\u001b[0m\u001b[0;34m,\u001b[0m\u001b[0;34m\u001b[0m\u001b[0;34m\u001b[0m\u001b[0m\n\u001b[1;32m    124\u001b[0m             \u001b[0m_caller_globals\u001b[0m\u001b[0;34m=\u001b[0m\u001b[0mcaller_globals\u001b[0m\u001b[0;34m,\u001b[0m\u001b[0;34m\u001b[0m\u001b[0;34m\u001b[0m\u001b[0m\n\u001b[0;32m--> 125\u001b[0;31m             \u001b[0msave_git_info\u001b[0m\u001b[0;34m=\u001b[0m\u001b[0msave_git_info\u001b[0m\u001b[0;34m,\u001b[0m\u001b[0;34m\u001b[0m\u001b[0;34m\u001b[0m\u001b[0m\n\u001b[0m\u001b[1;32m    126\u001b[0m         )\n\u001b[1;32m    127\u001b[0m         \u001b[0mself\u001b[0m\u001b[0;34m.\u001b[0m\u001b[0mdefault_command\u001b[0m \u001b[0;34m=\u001b[0m \u001b[0;32mNone\u001b[0m\u001b[0;34m\u001b[0m\u001b[0;34m\u001b[0m\u001b[0m\n",
      "\u001b[0;32m/opt/conda/lib/python3.6/site-packages/sacred/ingredient.py\u001b[0m in \u001b[0;36m__init__\u001b[0;34m(self, path, ingredients, interactive, _caller_globals, base_dir, save_git_info)\u001b[0m\n\u001b[1;32m     78\u001b[0m         \u001b[0;32mif\u001b[0m \u001b[0mself\u001b[0m\u001b[0;34m.\u001b[0m\u001b[0mmainfile\u001b[0m \u001b[0;32mis\u001b[0m \u001b[0;32mNone\u001b[0m \u001b[0;32mand\u001b[0m \u001b[0;32mnot\u001b[0m \u001b[0minteractive\u001b[0m\u001b[0;34m:\u001b[0m\u001b[0;34m\u001b[0m\u001b[0;34m\u001b[0m\u001b[0m\n\u001b[1;32m     79\u001b[0m             raise RuntimeError(\n\u001b[0;32m---> 80\u001b[0;31m                 \u001b[0;34m\"Defining an experiment in interactive mode! \"\u001b[0m\u001b[0;34m\u001b[0m\u001b[0;34m\u001b[0m\u001b[0m\n\u001b[0m\u001b[1;32m     81\u001b[0m                 \u001b[0;34m\"The sourcecode cannot be stored and the \"\u001b[0m\u001b[0;34m\u001b[0m\u001b[0;34m\u001b[0m\u001b[0m\n\u001b[1;32m     82\u001b[0m                 \u001b[0;34m\"experiment won't be reproducible. If you still\"\u001b[0m\u001b[0;34m\u001b[0m\u001b[0;34m\u001b[0m\u001b[0m\n",
      "\u001b[0;31mRuntimeError\u001b[0m: Defining an experiment in interactive mode! The sourcecode cannot be stored and the experiment won't be reproducible. If you still want to run it pass interactive=True"
     ]
    }
   ],
   "source": [
    "ex = Experiment('train_transcriber')"
   ]
  },
  {
   "cell_type": "code",
   "execution_count": 100,
   "metadata": {},
   "outputs": [],
   "source": [
    "import pickle"
   ]
  },
  {
   "cell_type": "code",
   "execution_count": 88,
   "metadata": {},
   "outputs": [],
   "source": [
    "ex = Experiment('train_transcriber', interactive=True)"
   ]
  },
  {
   "cell_type": "code",
   "execution_count": 89,
   "metadata": {},
   "outputs": [],
   "source": [
    "@ex.config\n",
    "def config():\n",
    "    logdir = 'runs/TCN_bi7-' + datetime.now().strftime('%y%m%d-%H%M%S')\n",
    "    device = f'cuda' if torch.cuda.is_available() else 'cpu'"
   ]
  },
  {
   "cell_type": "code",
   "execution_count": null,
   "metadata": {},
   "outputs": [],
   "source": [
    "save_config()"
   ]
  },
  {
   "cell_type": "code",
   "execution_count": 99,
   "metadata": {},
   "outputs": [
    {
     "data": {
      "text/plain": [
       "{'logdir': 'runs/TCN_bi7-200114-112539', 'device': 'cuda'}"
      ]
     },
     "execution_count": 99,
     "metadata": {},
     "output_type": "execute_result"
    }
   ],
   "source": [
    "dict(config())"
   ]
  },
  {
   "cell_type": "code",
   "execution_count": 109,
   "metadata": {},
   "outputs": [],
   "source": [
    "def save_dict(obj, name ):\n",
    "    with open('./runs/config/'+ name + '.pkl', 'wb') as f:\n",
    "        pickle.dump(obj, f, pickle.HIGHEST_PROTOCOL)"
   ]
  },
  {
   "cell_type": "code",
   "execution_count": 110,
   "metadata": {},
   "outputs": [],
   "source": [
    "save_dict(config(), basename(logdir))"
   ]
  },
  {
   "cell_type": "code",
   "execution_count": 112,
   "metadata": {},
   "outputs": [],
   "source": [
    "def load_obj(name):\n",
    "    with open('./runs/config/' + name + '.pkl', 'rb') as f:\n",
    "        return pickle.load(f)"
   ]
  },
  {
   "cell_type": "code",
   "execution_count": 113,
   "metadata": {},
   "outputs": [
    {
     "data": {
      "text/plain": [
       "{'logdir': 'runs/TCN_bi7-200114-113021', 'device': 'cuda'}"
      ]
     },
     "execution_count": 113,
     "metadata": {},
     "output_type": "execute_result"
    }
   ],
   "source": [
    "load_obj('TCN_bi7-200114-111404')"
   ]
  },
  {
   "cell_type": "code",
   "execution_count": 143,
   "metadata": {},
   "outputs": [
    {
     "name": "stdout",
     "output_type": "stream",
     "text": [
      "STFT filter created, time used = 0.0877 seconds\n",
      "Mel filter created, time used = 0.0035 seconds\n"
     ]
    }
   ],
   "source": [
    "mel = Spectrogram.MelSpectrogram(sr, n_fft=1024, hop_length=HOP_LENGTH)"
   ]
  },
  {
   "cell_type": "code",
   "execution_count": 159,
   "metadata": {},
   "outputs": [],
   "source": [
    "x = torch.randn(474811-512).cuda()"
   ]
  },
  {
   "cell_type": "code",
   "execution_count": 160,
   "metadata": {},
   "outputs": [
    {
     "data": {
      "text/plain": [
       "torch.Size([1, 128, 927])"
      ]
     },
     "execution_count": 160,
     "metadata": {},
     "output_type": "execute_result"
    }
   ],
   "source": [
    "mel(x).shape"
   ]
  },
  {
   "cell_type": "code",
   "execution_count": 148,
   "metadata": {},
   "outputs": [],
   "source": [
    "HOP_LENGTH = SAMPLE_RATE * 32 // 1000"
   ]
  },
  {
   "cell_type": "code",
   "execution_count": 149,
   "metadata": {},
   "outputs": [
    {
     "data": {
      "text/plain": [
       "512"
      ]
     },
     "execution_count": 149,
     "metadata": {},
     "output_type": "execute_result"
    }
   ],
   "source": [
    "HOP_LENGTH"
   ]
  },
  {
   "cell_type": "code",
   "execution_count": 150,
   "metadata": {},
   "outputs": [
    {
     "data": {
      "text/plain": [
       "927"
      ]
     },
     "execution_count": 150,
     "metadata": {},
     "output_type": "execute_result"
    }
   ],
   "source": [
    "474811//HOP_LENGTH"
   ]
  }
 ],
 "metadata": {
  "kernelspec": {
   "display_name": "Python 3",
   "language": "python",
   "name": "python3"
  },
  "language_info": {
   "codemirror_mode": {
    "name": "ipython",
    "version": 3
   },
   "file_extension": ".py",
   "mimetype": "text/x-python",
   "name": "python",
   "nbconvert_exporter": "python",
   "pygments_lexer": "ipython3",
   "version": "3.6.8"
  }
 },
 "nbformat": 4,
 "nbformat_minor": 2
}
