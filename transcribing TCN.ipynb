{
 "cells": [
  {
   "cell_type": "code",
   "execution_count": 75,
   "metadata": {},
   "outputs": [],
   "source": [
    "import torch\n",
    "import os\n",
    "import soundfile\n",
    "from scipy.signal import resample\n",
    "import librosa\n",
    "from nnAudio import Spectrogram\n",
    "import matplotlib.pyplot as plt\n",
    "\n",
    "os.environ['CUDA_VISIBLE_DEVICES'] = '3'\n",
    "from evaluate import *\n",
    "from mir_eval.multipitch import evaluate as evaluate_frames\n",
    "from mir_eval.transcription import precision_recall_f1_overlap as evaluate_notes\n",
    "\n",
    "if torch.cuda.is_available():\n",
    "    device = 'cuda:0'\n",
    "else:\n",
    "    device = 'cpu'"
   ]
  },
  {
   "cell_type": "code",
   "execution_count": 76,
   "metadata": {},
   "outputs": [],
   "source": [
    "from scipy.stats import hmean"
   ]
  },
  {
   "cell_type": "markdown",
   "metadata": {},
   "source": [
    "# Loading model"
   ]
  },
  {
   "cell_type": "code",
   "execution_count": 2,
   "metadata": {},
   "outputs": [],
   "source": [
    "HOP_LENGTH = HOP_LENGTH*2"
   ]
  },
  {
   "cell_type": "code",
   "execution_count": 3,
   "metadata": {},
   "outputs": [
    {
     "name": "stdout",
     "output_type": "stream",
     "text": [
      "OnsetsAndFrames_biTCN(\n",
      "  (onset_stack): Onset_Stack_bi(\n",
      "    (layer1): ConvStack(\n",
      "      (cnn): Sequential(\n",
      "        (0): Conv2d(1, 48, kernel_size=(3, 3), stride=(1, 1), padding=(1, 1)), \u001b[92m480\u001b[0m params\n",
      "        (1): BatchNorm2d(48, eps=1e-05, momentum=0.1, affine=True, track_running_stats=True), \u001b[92m96\u001b[0m params\n",
      "        (2): ReLU(), \u001b[92m0\u001b[0m params\n",
      "        (3): Conv2d(48, 48, kernel_size=(3, 3), stride=(1, 1), padding=(1, 1)), \u001b[92m20,784\u001b[0m params\n",
      "        (4): BatchNorm2d(48, eps=1e-05, momentum=0.1, affine=True, track_running_stats=True), \u001b[92m96\u001b[0m params\n",
      "        (5): ReLU(), \u001b[92m0\u001b[0m params\n",
      "        (6): MaxPool2d(kernel_size=(1, 2), stride=(1, 2), padding=0, dilation=1, ceil_mode=False), \u001b[92m0\u001b[0m params\n",
      "        (7): Dropout(p=0.25, inplace=False), \u001b[92m0\u001b[0m params\n",
      "        (8): Conv2d(48, 96, kernel_size=(3, 3), stride=(1, 1), padding=(1, 1)), \u001b[92m41,568\u001b[0m params\n",
      "        (9): BatchNorm2d(96, eps=1e-05, momentum=0.1, affine=True, track_running_stats=True), \u001b[92m192\u001b[0m params\n",
      "        (10): ReLU(), \u001b[92m0\u001b[0m params\n",
      "        (11): MaxPool2d(kernel_size=(1, 2), stride=(1, 2), padding=0, dilation=1, ceil_mode=False), \u001b[92m0\u001b[0m params\n",
      "        (12): Dropout(p=0.25, inplace=False), \u001b[92m0\u001b[0m params\n",
      "      ), \u001b[92m63,216\u001b[0m params\n",
      "      (fc): Sequential(\n",
      "        (0): Linear(in_features=5472, out_features=768, bias=True), \u001b[92m4,203,264\u001b[0m params\n",
      "        (1): Dropout(p=0.5, inplace=False), \u001b[92m0\u001b[0m params\n",
      "      ), \u001b[92m4,203,264\u001b[0m params\n",
      "    ), \u001b[92m4,266,480\u001b[0m params\n",
      "    (layer2): biTCN(\n",
      "      (tcn): TemporalConvNet(\n",
      "        (network): Sequential(\n",
      "          (0): TemporalBlock(\n",
      "            (conv1): Conv1d(768, 600, kernel_size=(2,), stride=(1,), padding=(1,)), \u001b[92m922,800\u001b[0m params\n",
      "            (chomp1): Chomp1d(), \u001b[92m0\u001b[0m params\n",
      "            (relu1): ReLU(), \u001b[92m0\u001b[0m params\n",
      "            (dropout1): Dropout(p=0, inplace=False), \u001b[92m0\u001b[0m params\n",
      "            (conv2): Conv1d(600, 600, kernel_size=(2,), stride=(1,), padding=(1,)), \u001b[92m721,200\u001b[0m params\n",
      "            (chomp2): Chomp1d(), \u001b[92m0\u001b[0m params\n",
      "            (relu2): ReLU(), \u001b[92m0\u001b[0m params\n",
      "            (dropout2): Dropout(p=0, inplace=False), \u001b[92m0\u001b[0m params\n",
      "            (net): Sequential(\n",
      "              (0): Conv1d(768, 600, kernel_size=(2,), stride=(1,), padding=(1,)), \u001b[92m922,800\u001b[0m params\n",
      "              (1): Chomp1d(), \u001b[92m0\u001b[0m params\n",
      "              (2): ReLU(), \u001b[92m0\u001b[0m params\n",
      "              (3): Dropout(p=0, inplace=False), \u001b[92m0\u001b[0m params\n",
      "              (4): Conv1d(600, 600, kernel_size=(2,), stride=(1,), padding=(1,)), \u001b[92m721,200\u001b[0m params\n",
      "              (5): Chomp1d(), \u001b[92m0\u001b[0m params\n",
      "              (6): ReLU(), \u001b[92m0\u001b[0m params\n",
      "              (7): Dropout(p=0, inplace=False), \u001b[92m0\u001b[0m params\n",
      "            ), \u001b[92m1,644,000\u001b[0m params\n",
      "            (downsample): Conv1d(768, 600, kernel_size=(1,), stride=(1,)), \u001b[92m461,400\u001b[0m params\n",
      "            (relu): ReLU(), \u001b[92m0\u001b[0m params\n",
      "          ), \u001b[92m3,749,400\u001b[0m params\n",
      "          (1): TemporalBlock(\n",
      "            (conv1): Conv1d(600, 500, kernel_size=(2,), stride=(1,), padding=(2,), dilation=(2,)), \u001b[92m601,000\u001b[0m params\n",
      "            (chomp1): Chomp1d(), \u001b[92m0\u001b[0m params\n",
      "            (relu1): ReLU(), \u001b[92m0\u001b[0m params\n",
      "            (dropout1): Dropout(p=0, inplace=False), \u001b[92m0\u001b[0m params\n",
      "            (conv2): Conv1d(500, 500, kernel_size=(2,), stride=(1,), padding=(2,), dilation=(2,)), \u001b[92m501,000\u001b[0m params\n",
      "            (chomp2): Chomp1d(), \u001b[92m0\u001b[0m params\n",
      "            (relu2): ReLU(), \u001b[92m0\u001b[0m params\n",
      "            (dropout2): Dropout(p=0, inplace=False), \u001b[92m0\u001b[0m params\n",
      "            (net): Sequential(\n",
      "              (0): Conv1d(600, 500, kernel_size=(2,), stride=(1,), padding=(2,), dilation=(2,)), \u001b[92m601,000\u001b[0m params\n",
      "              (1): Chomp1d(), \u001b[92m0\u001b[0m params\n",
      "              (2): ReLU(), \u001b[92m0\u001b[0m params\n",
      "              (3): Dropout(p=0, inplace=False), \u001b[92m0\u001b[0m params\n",
      "              (4): Conv1d(500, 500, kernel_size=(2,), stride=(1,), padding=(2,), dilation=(2,)), \u001b[92m501,000\u001b[0m params\n",
      "              (5): Chomp1d(), \u001b[92m0\u001b[0m params\n",
      "              (6): ReLU(), \u001b[92m0\u001b[0m params\n",
      "              (7): Dropout(p=0, inplace=False), \u001b[92m0\u001b[0m params\n",
      "            ), \u001b[92m1,102,000\u001b[0m params\n",
      "            (downsample): Conv1d(600, 500, kernel_size=(1,), stride=(1,)), \u001b[92m300,500\u001b[0m params\n",
      "            (relu): ReLU(), \u001b[92m0\u001b[0m params\n",
      "          ), \u001b[92m2,504,500\u001b[0m params\n",
      "          (2): TemporalBlock(\n",
      "            (conv1): Conv1d(500, 400, kernel_size=(2,), stride=(1,), padding=(4,), dilation=(4,)), \u001b[92m400,800\u001b[0m params\n",
      "            (chomp1): Chomp1d(), \u001b[92m0\u001b[0m params\n",
      "            (relu1): ReLU(), \u001b[92m0\u001b[0m params\n",
      "            (dropout1): Dropout(p=0, inplace=False), \u001b[92m0\u001b[0m params\n",
      "            (conv2): Conv1d(400, 400, kernel_size=(2,), stride=(1,), padding=(4,), dilation=(4,)), \u001b[92m320,800\u001b[0m params\n",
      "            (chomp2): Chomp1d(), \u001b[92m0\u001b[0m params\n",
      "            (relu2): ReLU(), \u001b[92m0\u001b[0m params\n",
      "            (dropout2): Dropout(p=0, inplace=False), \u001b[92m0\u001b[0m params\n",
      "            (net): Sequential(\n",
      "              (0): Conv1d(500, 400, kernel_size=(2,), stride=(1,), padding=(4,), dilation=(4,)), \u001b[92m400,800\u001b[0m params\n",
      "              (1): Chomp1d(), \u001b[92m0\u001b[0m params\n",
      "              (2): ReLU(), \u001b[92m0\u001b[0m params\n",
      "              (3): Dropout(p=0, inplace=False), \u001b[92m0\u001b[0m params\n",
      "              (4): Conv1d(400, 400, kernel_size=(2,), stride=(1,), padding=(4,), dilation=(4,)), \u001b[92m320,800\u001b[0m params\n",
      "              (5): Chomp1d(), \u001b[92m0\u001b[0m params\n",
      "              (6): ReLU(), \u001b[92m0\u001b[0m params\n",
      "              (7): Dropout(p=0, inplace=False), \u001b[92m0\u001b[0m params\n",
      "            ), \u001b[92m721,600\u001b[0m params\n",
      "            (downsample): Conv1d(500, 400, kernel_size=(1,), stride=(1,)), \u001b[92m200,400\u001b[0m params\n",
      "            (relu): ReLU(), \u001b[92m0\u001b[0m params\n",
      "          ), \u001b[92m1,643,600\u001b[0m params\n",
      "          (3): TemporalBlock(\n",
      "            (conv1): Conv1d(400, 300, kernel_size=(2,), stride=(1,), padding=(8,), dilation=(8,)), \u001b[92m240,600\u001b[0m params\n",
      "            (chomp1): Chomp1d(), \u001b[92m0\u001b[0m params\n",
      "            (relu1): ReLU(), \u001b[92m0\u001b[0m params\n",
      "            (dropout1): Dropout(p=0, inplace=False), \u001b[92m0\u001b[0m params\n",
      "            (conv2): Conv1d(300, 300, kernel_size=(2,), stride=(1,), padding=(8,), dilation=(8,)), \u001b[92m180,600\u001b[0m params\n",
      "            (chomp2): Chomp1d(), \u001b[92m0\u001b[0m params\n",
      "            (relu2): ReLU(), \u001b[92m0\u001b[0m params\n",
      "            (dropout2): Dropout(p=0, inplace=False), \u001b[92m0\u001b[0m params\n",
      "            (net): Sequential(\n",
      "              (0): Conv1d(400, 300, kernel_size=(2,), stride=(1,), padding=(8,), dilation=(8,)), \u001b[92m240,600\u001b[0m params\n",
      "              (1): Chomp1d(), \u001b[92m0\u001b[0m params\n",
      "              (2): ReLU(), \u001b[92m0\u001b[0m params\n",
      "              (3): Dropout(p=0, inplace=False), \u001b[92m0\u001b[0m params\n",
      "              (4): Conv1d(300, 300, kernel_size=(2,), stride=(1,), padding=(8,), dilation=(8,)), \u001b[92m180,600\u001b[0m params\n",
      "              (5): Chomp1d(), \u001b[92m0\u001b[0m params\n",
      "              (6): ReLU(), \u001b[92m0\u001b[0m params\n",
      "              (7): Dropout(p=0, inplace=False), \u001b[92m0\u001b[0m params\n",
      "            ), \u001b[92m421,200\u001b[0m params\n",
      "            (downsample): Conv1d(400, 300, kernel_size=(1,), stride=(1,)), \u001b[92m120,300\u001b[0m params\n",
      "            (relu): ReLU(), \u001b[92m0\u001b[0m params\n",
      "          ), \u001b[92m962,700\u001b[0m params\n",
      "          (4): TemporalBlock(\n",
      "            (conv1): Conv1d(300, 200, kernel_size=(2,), stride=(1,), padding=(16,), dilation=(16,)), \u001b[92m120,400\u001b[0m params\n",
      "            (chomp1): Chomp1d(), \u001b[92m0\u001b[0m params\n",
      "            (relu1): ReLU(), \u001b[92m0\u001b[0m params\n",
      "            (dropout1): Dropout(p=0, inplace=False), \u001b[92m0\u001b[0m params\n",
      "            (conv2): Conv1d(200, 200, kernel_size=(2,), stride=(1,), padding=(16,), dilation=(16,)), \u001b[92m80,400\u001b[0m params\n",
      "            (chomp2): Chomp1d(), \u001b[92m0\u001b[0m params\n",
      "            (relu2): ReLU(), \u001b[92m0\u001b[0m params\n",
      "            (dropout2): Dropout(p=0, inplace=False), \u001b[92m0\u001b[0m params\n",
      "            (net): Sequential(\n",
      "              (0): Conv1d(300, 200, kernel_size=(2,), stride=(1,), padding=(16,), dilation=(16,)), \u001b[92m120,400\u001b[0m params\n",
      "              (1): Chomp1d(), \u001b[92m0\u001b[0m params\n",
      "              (2): ReLU(), \u001b[92m0\u001b[0m params\n",
      "              (3): Dropout(p=0, inplace=False), \u001b[92m0\u001b[0m params\n",
      "              (4): Conv1d(200, 200, kernel_size=(2,), stride=(1,), padding=(16,), dilation=(16,)), \u001b[92m80,400\u001b[0m params\n",
      "              (5): Chomp1d(), \u001b[92m0\u001b[0m params\n",
      "              (6): ReLU(), \u001b[92m0\u001b[0m params\n",
      "              (7): Dropout(p=0, inplace=False), \u001b[92m0\u001b[0m params\n",
      "            ), \u001b[92m200,800\u001b[0m params\n",
      "            (downsample): Conv1d(300, 200, kernel_size=(1,), stride=(1,)), \u001b[92m60,200\u001b[0m params\n",
      "            (relu): ReLU(), \u001b[92m0\u001b[0m params\n",
      "          ), \u001b[92m461,800\u001b[0m params\n",
      "          (5): TemporalBlock(\n",
      "            (conv1): Conv1d(200, 100, kernel_size=(2,), stride=(1,), padding=(32,), dilation=(32,)), \u001b[92m40,200\u001b[0m params\n",
      "            (chomp1): Chomp1d(), \u001b[92m0\u001b[0m params\n",
      "            (relu1): ReLU(), \u001b[92m0\u001b[0m params\n",
      "            (dropout1): Dropout(p=0, inplace=False), \u001b[92m0\u001b[0m params\n",
      "            (conv2): Conv1d(100, 100, kernel_size=(2,), stride=(1,), padding=(32,), dilation=(32,)), \u001b[92m20,200\u001b[0m params\n",
      "            (chomp2): Chomp1d(), \u001b[92m0\u001b[0m params\n",
      "            (relu2): ReLU(), \u001b[92m0\u001b[0m params\n",
      "            (dropout2): Dropout(p=0, inplace=False), \u001b[92m0\u001b[0m params\n",
      "            (net): Sequential(\n",
      "              (0): Conv1d(200, 100, kernel_size=(2,), stride=(1,), padding=(32,), dilation=(32,)), \u001b[92m40,200\u001b[0m params\n",
      "              (1): Chomp1d(), \u001b[92m0\u001b[0m params\n",
      "              (2): ReLU(), \u001b[92m0\u001b[0m params\n",
      "              (3): Dropout(p=0, inplace=False), \u001b[92m0\u001b[0m params\n",
      "              (4): Conv1d(100, 100, kernel_size=(2,), stride=(1,), padding=(32,), dilation=(32,)), \u001b[92m20,200\u001b[0m params\n",
      "              (5): Chomp1d(), \u001b[92m0\u001b[0m params\n",
      "              (6): ReLU(), \u001b[92m0\u001b[0m params\n",
      "              (7): Dropout(p=0, inplace=False), \u001b[92m0\u001b[0m params\n",
      "            ), \u001b[92m60,400\u001b[0m params\n",
      "            (downsample): Conv1d(200, 100, kernel_size=(1,), stride=(1,)), \u001b[92m20,100\u001b[0m params\n",
      "            (relu): ReLU(), \u001b[92m0\u001b[0m params\n",
      "          ), \u001b[92m140,900\u001b[0m params\n",
      "        ), \u001b[92m9,462,900\u001b[0m params\n",
      "      ), \u001b[92m9,462,900\u001b[0m params\n",
      "      (linear): Linear(in_features=200, out_features=88, bias=True), \u001b[92m17,688\u001b[0m params\n",
      "    ), \u001b[92m9,480,588\u001b[0m params\n",
      "  ), \u001b[92m13,747,068\u001b[0m params\n",
      "  (frame_stack): Sequential(\n",
      "    (0): ConvStack(\n",
      "      (cnn): Sequential(\n",
      "        (0): Conv2d(1, 48, kernel_size=(3, 3), stride=(1, 1), padding=(1, 1)), \u001b[92m480\u001b[0m params\n",
      "        (1): BatchNorm2d(48, eps=1e-05, momentum=0.1, affine=True, track_running_stats=True), \u001b[92m96\u001b[0m params\n",
      "        (2): ReLU(), \u001b[92m0\u001b[0m params\n",
      "        (3): Conv2d(48, 48, kernel_size=(3, 3), stride=(1, 1), padding=(1, 1)), \u001b[92m20,784\u001b[0m params\n",
      "        (4): BatchNorm2d(48, eps=1e-05, momentum=0.1, affine=True, track_running_stats=True), \u001b[92m96\u001b[0m params\n",
      "        (5): ReLU(), \u001b[92m0\u001b[0m params\n",
      "        (6): MaxPool2d(kernel_size=(1, 2), stride=(1, 2), padding=0, dilation=1, ceil_mode=False), \u001b[92m0\u001b[0m params\n",
      "        (7): Dropout(p=0.25, inplace=False), \u001b[92m0\u001b[0m params\n",
      "        (8): Conv2d(48, 96, kernel_size=(3, 3), stride=(1, 1), padding=(1, 1)), \u001b[92m41,568\u001b[0m params\n",
      "        (9): BatchNorm2d(96, eps=1e-05, momentum=0.1, affine=True, track_running_stats=True), \u001b[92m192\u001b[0m params\n",
      "        (10): ReLU(), \u001b[92m0\u001b[0m params\n",
      "        (11): MaxPool2d(kernel_size=(1, 2), stride=(1, 2), padding=0, dilation=1, ceil_mode=False), \u001b[92m0\u001b[0m params\n",
      "        (12): Dropout(p=0.25, inplace=False), \u001b[92m0\u001b[0m params\n",
      "      ), \u001b[92m63,216\u001b[0m params\n",
      "      (fc): Sequential(\n",
      "        (0): Linear(in_features=5472, out_features=768, bias=True), \u001b[92m4,203,264\u001b[0m params\n",
      "        (1): Dropout(p=0.5, inplace=False), \u001b[92m0\u001b[0m params\n",
      "      ), \u001b[92m4,203,264\u001b[0m params\n",
      "    ), \u001b[92m4,266,480\u001b[0m params\n",
      "    (1): Linear(in_features=768, out_features=88, bias=True), \u001b[92m67,672\u001b[0m params\n",
      "    (2): Sigmoid(), \u001b[92m0\u001b[0m params\n",
      "  ), \u001b[92m4,334,152\u001b[0m params\n",
      "  (combined_stack): Combined_Stack_bi(\n",
      "    (layer1): biTCN(\n",
      "      (tcn): TemporalConvNet(\n",
      "        (network): Sequential(\n",
      "          (0): TemporalBlock(\n",
      "            (conv1): Conv1d(176, 600, kernel_size=(2,), stride=(1,), padding=(1,)), \u001b[92m212,400\u001b[0m params\n",
      "            (chomp1): Chomp1d(), \u001b[92m0\u001b[0m params\n",
      "            (relu1): ReLU(), \u001b[92m0\u001b[0m params\n",
      "            (dropout1): Dropout(p=0, inplace=False), \u001b[92m0\u001b[0m params\n",
      "            (conv2): Conv1d(600, 600, kernel_size=(2,), stride=(1,), padding=(1,)), \u001b[92m721,200\u001b[0m params\n",
      "            (chomp2): Chomp1d(), \u001b[92m0\u001b[0m params\n",
      "            (relu2): ReLU(), \u001b[92m0\u001b[0m params\n",
      "            (dropout2): Dropout(p=0, inplace=False), \u001b[92m0\u001b[0m params\n",
      "            (net): Sequential(\n",
      "              (0): Conv1d(176, 600, kernel_size=(2,), stride=(1,), padding=(1,)), \u001b[92m212,400\u001b[0m params\n",
      "              (1): Chomp1d(), \u001b[92m0\u001b[0m params\n",
      "              (2): ReLU(), \u001b[92m0\u001b[0m params\n",
      "              (3): Dropout(p=0, inplace=False), \u001b[92m0\u001b[0m params\n",
      "              (4): Conv1d(600, 600, kernel_size=(2,), stride=(1,), padding=(1,)), \u001b[92m721,200\u001b[0m params\n",
      "              (5): Chomp1d(), \u001b[92m0\u001b[0m params\n",
      "              (6): ReLU(), \u001b[92m0\u001b[0m params\n",
      "              (7): Dropout(p=0, inplace=False), \u001b[92m0\u001b[0m params\n",
      "            ), \u001b[92m933,600\u001b[0m params\n",
      "            (downsample): Conv1d(176, 600, kernel_size=(1,), stride=(1,)), \u001b[92m106,200\u001b[0m params\n",
      "            (relu): ReLU(), \u001b[92m0\u001b[0m params\n",
      "          ), \u001b[92m1,973,400\u001b[0m params\n",
      "          (1): TemporalBlock(\n",
      "            (conv1): Conv1d(600, 500, kernel_size=(2,), stride=(1,), padding=(2,), dilation=(2,)), \u001b[92m601,000\u001b[0m params\n",
      "            (chomp1): Chomp1d(), \u001b[92m0\u001b[0m params\n",
      "            (relu1): ReLU(), \u001b[92m0\u001b[0m params\n",
      "            (dropout1): Dropout(p=0, inplace=False), \u001b[92m0\u001b[0m params\n",
      "            (conv2): Conv1d(500, 500, kernel_size=(2,), stride=(1,), padding=(2,), dilation=(2,)), \u001b[92m501,000\u001b[0m params\n",
      "            (chomp2): Chomp1d(), \u001b[92m0\u001b[0m params\n",
      "            (relu2): ReLU(), \u001b[92m0\u001b[0m params\n",
      "            (dropout2): Dropout(p=0, inplace=False), \u001b[92m0\u001b[0m params\n",
      "            (net): Sequential(\n",
      "              (0): Conv1d(600, 500, kernel_size=(2,), stride=(1,), padding=(2,), dilation=(2,)), \u001b[92m601,000\u001b[0m params\n",
      "              (1): Chomp1d(), \u001b[92m0\u001b[0m params\n",
      "              (2): ReLU(), \u001b[92m0\u001b[0m params\n",
      "              (3): Dropout(p=0, inplace=False), \u001b[92m0\u001b[0m params\n",
      "              (4): Conv1d(500, 500, kernel_size=(2,), stride=(1,), padding=(2,), dilation=(2,)), \u001b[92m501,000\u001b[0m params\n",
      "              (5): Chomp1d(), \u001b[92m0\u001b[0m params\n",
      "              (6): ReLU(), \u001b[92m0\u001b[0m params\n",
      "              (7): Dropout(p=0, inplace=False), \u001b[92m0\u001b[0m params\n",
      "            ), \u001b[92m1,102,000\u001b[0m params\n",
      "            (downsample): Conv1d(600, 500, kernel_size=(1,), stride=(1,)), \u001b[92m300,500\u001b[0m params\n",
      "            (relu): ReLU(), \u001b[92m0\u001b[0m params\n",
      "          ), \u001b[92m2,504,500\u001b[0m params\n",
      "          (2): TemporalBlock(\n",
      "            (conv1): Conv1d(500, 400, kernel_size=(2,), stride=(1,), padding=(4,), dilation=(4,)), \u001b[92m400,800\u001b[0m params\n",
      "            (chomp1): Chomp1d(), \u001b[92m0\u001b[0m params\n",
      "            (relu1): ReLU(), \u001b[92m0\u001b[0m params\n",
      "            (dropout1): Dropout(p=0, inplace=False), \u001b[92m0\u001b[0m params\n",
      "            (conv2): Conv1d(400, 400, kernel_size=(2,), stride=(1,), padding=(4,), dilation=(4,)), \u001b[92m320,800\u001b[0m params\n",
      "            (chomp2): Chomp1d(), \u001b[92m0\u001b[0m params\n",
      "            (relu2): ReLU(), \u001b[92m0\u001b[0m params\n",
      "            (dropout2): Dropout(p=0, inplace=False), \u001b[92m0\u001b[0m params\n",
      "            (net): Sequential(\n",
      "              (0): Conv1d(500, 400, kernel_size=(2,), stride=(1,), padding=(4,), dilation=(4,)), \u001b[92m400,800\u001b[0m params\n",
      "              (1): Chomp1d(), \u001b[92m0\u001b[0m params\n",
      "              (2): ReLU(), \u001b[92m0\u001b[0m params\n",
      "              (3): Dropout(p=0, inplace=False), \u001b[92m0\u001b[0m params\n",
      "              (4): Conv1d(400, 400, kernel_size=(2,), stride=(1,), padding=(4,), dilation=(4,)), \u001b[92m320,800\u001b[0m params\n",
      "              (5): Chomp1d(), \u001b[92m0\u001b[0m params\n",
      "              (6): ReLU(), \u001b[92m0\u001b[0m params\n",
      "              (7): Dropout(p=0, inplace=False), \u001b[92m0\u001b[0m params\n",
      "            ), \u001b[92m721,600\u001b[0m params\n",
      "            (downsample): Conv1d(500, 400, kernel_size=(1,), stride=(1,)), \u001b[92m200,400\u001b[0m params\n",
      "            (relu): ReLU(), \u001b[92m0\u001b[0m params\n",
      "          ), \u001b[92m1,643,600\u001b[0m params\n",
      "          (3): TemporalBlock(\n",
      "            (conv1): Conv1d(400, 300, kernel_size=(2,), stride=(1,), padding=(8,), dilation=(8,)), \u001b[92m240,600\u001b[0m params\n",
      "            (chomp1): Chomp1d(), \u001b[92m0\u001b[0m params\n",
      "            (relu1): ReLU(), \u001b[92m0\u001b[0m params\n",
      "            (dropout1): Dropout(p=0, inplace=False), \u001b[92m0\u001b[0m params\n",
      "            (conv2): Conv1d(300, 300, kernel_size=(2,), stride=(1,), padding=(8,), dilation=(8,)), \u001b[92m180,600\u001b[0m params\n",
      "            (chomp2): Chomp1d(), \u001b[92m0\u001b[0m params\n",
      "            (relu2): ReLU(), \u001b[92m0\u001b[0m params\n",
      "            (dropout2): Dropout(p=0, inplace=False), \u001b[92m0\u001b[0m params\n",
      "            (net): Sequential(\n",
      "              (0): Conv1d(400, 300, kernel_size=(2,), stride=(1,), padding=(8,), dilation=(8,)), \u001b[92m240,600\u001b[0m params\n",
      "              (1): Chomp1d(), \u001b[92m0\u001b[0m params\n",
      "              (2): ReLU(), \u001b[92m0\u001b[0m params\n",
      "              (3): Dropout(p=0, inplace=False), \u001b[92m0\u001b[0m params\n",
      "              (4): Conv1d(300, 300, kernel_size=(2,), stride=(1,), padding=(8,), dilation=(8,)), \u001b[92m180,600\u001b[0m params\n",
      "              (5): Chomp1d(), \u001b[92m0\u001b[0m params\n",
      "              (6): ReLU(), \u001b[92m0\u001b[0m params\n",
      "              (7): Dropout(p=0, inplace=False), \u001b[92m0\u001b[0m params\n",
      "            ), \u001b[92m421,200\u001b[0m params\n",
      "            (downsample): Conv1d(400, 300, kernel_size=(1,), stride=(1,)), \u001b[92m120,300\u001b[0m params\n",
      "            (relu): ReLU(), \u001b[92m0\u001b[0m params\n",
      "          ), \u001b[92m962,700\u001b[0m params\n",
      "          (4): TemporalBlock(\n",
      "            (conv1): Conv1d(300, 200, kernel_size=(2,), stride=(1,), padding=(16,), dilation=(16,)), \u001b[92m120,400\u001b[0m params\n",
      "            (chomp1): Chomp1d(), \u001b[92m0\u001b[0m params\n",
      "            (relu1): ReLU(), \u001b[92m0\u001b[0m params\n",
      "            (dropout1): Dropout(p=0, inplace=False), \u001b[92m0\u001b[0m params\n",
      "            (conv2): Conv1d(200, 200, kernel_size=(2,), stride=(1,), padding=(16,), dilation=(16,)), \u001b[92m80,400\u001b[0m params\n",
      "            (chomp2): Chomp1d(), \u001b[92m0\u001b[0m params\n",
      "            (relu2): ReLU(), \u001b[92m0\u001b[0m params\n",
      "            (dropout2): Dropout(p=0, inplace=False), \u001b[92m0\u001b[0m params\n",
      "            (net): Sequential(\n",
      "              (0): Conv1d(300, 200, kernel_size=(2,), stride=(1,), padding=(16,), dilation=(16,)), \u001b[92m120,400\u001b[0m params\n",
      "              (1): Chomp1d(), \u001b[92m0\u001b[0m params\n",
      "              (2): ReLU(), \u001b[92m0\u001b[0m params\n",
      "              (3): Dropout(p=0, inplace=False), \u001b[92m0\u001b[0m params\n",
      "              (4): Conv1d(200, 200, kernel_size=(2,), stride=(1,), padding=(16,), dilation=(16,)), \u001b[92m80,400\u001b[0m params\n",
      "              (5): Chomp1d(), \u001b[92m0\u001b[0m params\n",
      "              (6): ReLU(), \u001b[92m0\u001b[0m params\n",
      "              (7): Dropout(p=0, inplace=False), \u001b[92m0\u001b[0m params\n",
      "            ), \u001b[92m200,800\u001b[0m params\n",
      "            (downsample): Conv1d(300, 200, kernel_size=(1,), stride=(1,)), \u001b[92m60,200\u001b[0m params\n",
      "            (relu): ReLU(), \u001b[92m0\u001b[0m params\n",
      "          ), \u001b[92m461,800\u001b[0m params\n",
      "          (5): TemporalBlock(\n",
      "            (conv1): Conv1d(200, 100, kernel_size=(2,), stride=(1,), padding=(32,), dilation=(32,)), \u001b[92m40,200\u001b[0m params\n",
      "            (chomp1): Chomp1d(), \u001b[92m0\u001b[0m params\n",
      "            (relu1): ReLU(), \u001b[92m0\u001b[0m params\n",
      "            (dropout1): Dropout(p=0, inplace=False), \u001b[92m0\u001b[0m params\n",
      "            (conv2): Conv1d(100, 100, kernel_size=(2,), stride=(1,), padding=(32,), dilation=(32,)), \u001b[92m20,200\u001b[0m params\n",
      "            (chomp2): Chomp1d(), \u001b[92m0\u001b[0m params\n",
      "            (relu2): ReLU(), \u001b[92m0\u001b[0m params\n",
      "            (dropout2): Dropout(p=0, inplace=False), \u001b[92m0\u001b[0m params\n",
      "            (net): Sequential(\n",
      "              (0): Conv1d(200, 100, kernel_size=(2,), stride=(1,), padding=(32,), dilation=(32,)), \u001b[92m40,200\u001b[0m params\n",
      "              (1): Chomp1d(), \u001b[92m0\u001b[0m params\n",
      "              (2): ReLU(), \u001b[92m0\u001b[0m params\n",
      "              (3): Dropout(p=0, inplace=False), \u001b[92m0\u001b[0m params\n",
      "              (4): Conv1d(100, 100, kernel_size=(2,), stride=(1,), padding=(32,), dilation=(32,)), \u001b[92m20,200\u001b[0m params\n",
      "              (5): Chomp1d(), \u001b[92m0\u001b[0m params\n",
      "              (6): ReLU(), \u001b[92m0\u001b[0m params\n",
      "              (7): Dropout(p=0, inplace=False), \u001b[92m0\u001b[0m params\n",
      "            ), \u001b[92m60,400\u001b[0m params\n",
      "            (downsample): Conv1d(200, 100, kernel_size=(1,), stride=(1,)), \u001b[92m20,100\u001b[0m params\n",
      "            (relu): ReLU(), \u001b[92m0\u001b[0m params\n",
      "          ), \u001b[92m140,900\u001b[0m params\n",
      "        ), \u001b[92m7,686,900\u001b[0m params\n",
      "      ), \u001b[92m7,686,900\u001b[0m params\n",
      "      (linear): Linear(in_features=200, out_features=88, bias=True), \u001b[92m17,688\u001b[0m params\n",
      "    ), \u001b[92m7,704,588\u001b[0m params\n",
      "  ), \u001b[92m7,704,588\u001b[0m params\n",
      "  (velocity_stack): Sequential(\n",
      "    (0): ConvStack(\n",
      "      (cnn): Sequential(\n",
      "        (0): Conv2d(1, 48, kernel_size=(3, 3), stride=(1, 1), padding=(1, 1)), \u001b[92m480\u001b[0m params\n",
      "        (1): BatchNorm2d(48, eps=1e-05, momentum=0.1, affine=True, track_running_stats=True), \u001b[92m96\u001b[0m params\n",
      "        (2): ReLU(), \u001b[92m0\u001b[0m params\n",
      "        (3): Conv2d(48, 48, kernel_size=(3, 3), stride=(1, 1), padding=(1, 1)), \u001b[92m20,784\u001b[0m params\n",
      "        (4): BatchNorm2d(48, eps=1e-05, momentum=0.1, affine=True, track_running_stats=True), \u001b[92m96\u001b[0m params\n",
      "        (5): ReLU(), \u001b[92m0\u001b[0m params\n",
      "        (6): MaxPool2d(kernel_size=(1, 2), stride=(1, 2), padding=0, dilation=1, ceil_mode=False), \u001b[92m0\u001b[0m params\n",
      "        (7): Dropout(p=0.25, inplace=False), \u001b[92m0\u001b[0m params\n",
      "        (8): Conv2d(48, 96, kernel_size=(3, 3), stride=(1, 1), padding=(1, 1)), \u001b[92m41,568\u001b[0m params\n",
      "        (9): BatchNorm2d(96, eps=1e-05, momentum=0.1, affine=True, track_running_stats=True), \u001b[92m192\u001b[0m params\n",
      "        (10): ReLU(), \u001b[92m0\u001b[0m params\n",
      "        (11): MaxPool2d(kernel_size=(1, 2), stride=(1, 2), padding=0, dilation=1, ceil_mode=False), \u001b[92m0\u001b[0m params\n",
      "        (12): Dropout(p=0.25, inplace=False), \u001b[92m0\u001b[0m params\n",
      "      ), \u001b[92m63,216\u001b[0m params\n",
      "      (fc): Sequential(\n",
      "        (0): Linear(in_features=5472, out_features=768, bias=True), \u001b[92m4,203,264\u001b[0m params\n",
      "        (1): Dropout(p=0.5, inplace=False), \u001b[92m0\u001b[0m params\n",
      "      ), \u001b[92m4,203,264\u001b[0m params\n",
      "    ), \u001b[92m4,266,480\u001b[0m params\n",
      "    (1): Linear(in_features=768, out_features=88, bias=True), \u001b[92m67,672\u001b[0m params\n",
      "  ), \u001b[92m4,334,152\u001b[0m params\n",
      "), \u001b[92m30,119,960\u001b[0m params\n"
     ]
    },
    {
     "name": "stdout",
     "output_type": "stream",
     "text": [
      "STFT filter created, time used = 0.2491 seconds\n",
      "Mel filter created, time used = 0.0062 seconds\n"
     ]
    }
   ],
   "source": [
    "model = 'biTCN2_big2smallchannel'\n",
    "model_file = os.path.join('./runs',model,'model-2000.pt')\n",
    "dataset = 'MAPS'\n",
    "dataset_group = None\n",
    "save_path = os.path.join('results',model)\n",
    "sequence_length = None\n",
    "onset_threshold = 0.5\n",
    "frame_threshold = 0.5\n",
    "device = 'cuda:0'\n",
    "model = torch.load(model_file, map_location=device)\n",
    "summary(model)\n",
    "\n",
    "melspectrogram = Spectrogram.MelSpectrogram(SAMPLE_RATE, WINDOW_LENGTH, N_MELS, HOP_LENGTH,\n",
    "                                            fmin=MEL_FMIN, fmax=MEL_FMAX, trainable_mel=True, device=DEFAULT_DEVICE)"
   ]
  },
  {
   "cell_type": "markdown",
   "metadata": {},
   "source": [
    "# Loading audio file"
   ]
  },
  {
   "cell_type": "code",
   "execution_count": 4,
   "metadata": {},
   "outputs": [],
   "source": [
    "audio_path = './test_audio/1759.wav'"
   ]
  },
  {
   "cell_type": "code",
   "execution_count": 5,
   "metadata": {},
   "outputs": [],
   "source": [
    "audio, sr = librosa.load(audio_path, sr=16000)"
   ]
  },
  {
   "cell_type": "code",
   "execution_count": 6,
   "metadata": {},
   "outputs": [],
   "source": [
    "audio = torch.tensor(audio).to(device)"
   ]
  },
  {
   "cell_type": "markdown",
   "metadata": {},
   "source": [
    "# Feed-forward the audio"
   ]
  },
  {
   "cell_type": "code",
   "execution_count": 8,
   "metadata": {},
   "outputs": [],
   "source": [
    "mel = melspectrogram(audio) # Getting spectrogram\n",
    "mel = mel.transpose(-1,-2) # Swapping x and y axes of the piano roll\n",
    "onset_pred, activation_pred, frame_pred = model(mel) # Getting prediction"
   ]
  },
  {
   "cell_type": "code",
   "execution_count": 34,
   "metadata": {},
   "outputs": [
    {
     "data": {
      "text/plain": [
       "<matplotlib.image.AxesImage at 0x7f54e825a710>"
      ]
     },
     "execution_count": 34,
     "metadata": {},
     "output_type": "execute_result"
    },
    {
     "data": {
      "image/png": "[encoded data removed]",
      "text/plain": [
       "<Figure size 432x288 with 1 Axes>"
      ]
     },
     "metadata": {
      "needs_background": "light"
     },
     "output_type": "display_data"
    }
   ],
   "source": [
    "plt.imshow(frame_pred.detach().cpu()[0].T, origin='lower', aspect='auto') # Visualizing the output"
   ]
  },
  {
   "cell_type": "markdown",
   "metadata": {},
   "source": [
    "# Evaluation"
   ]
  },
  {
   "cell_type": "code",
   "execution_count": 37,
   "metadata": {},
   "outputs": [],
   "source": [
    "import pandas as pd\n",
    "from evaluate import extract_notes_wo_velocity"
   ]
  },
  {
   "cell_type": "markdown",
   "metadata": {},
   "source": [
    "## Getting labels"
   ]
  },
  {
   "cell_type": "code",
   "execution_count": 38,
   "metadata": {},
   "outputs": [],
   "source": [
    "midi = pd.read_csv('./test_audio/1759.csv')"
   ]
  },
  {
   "cell_type": "code",
   "execution_count": 39,
   "metadata": {},
   "outputs": [],
   "source": [
    "n_steps = len(audio-1)//HOP_LENGTH + 1\n",
    "n_keys = 88"
   ]
  },
  {
   "cell_type": "code",
   "execution_count": 40,
   "metadata": {},
   "outputs": [],
   "source": [
    "label = torch.zeros(n_steps, n_keys, dtype=torch.uint8)\n",
    "for idx, data in midi.iterrows():\n",
    "    onset = data['start_time']\n",
    "    offset = data['end_time']\n",
    "    note = data['note']\n",
    "    \n",
    "    left = int(round(onset / 44100 * SAMPLE_RATE / HOP_LENGTH)) # Convert time to time step\n",
    "    onset_right = min(n_steps, left + HOPS_IN_ONSET) # Ensure the time step of onset would not exceed the last time step\n",
    "    frame_right = int(round(offset / 44100 * SAMPLE_RATE / HOP_LENGTH))\n",
    "    frame_right = min(n_steps, frame_right) # Ensure the time step of frame would not exceed the last time step\n",
    "    offset_right = min(n_steps, frame_right + HOPS_IN_OFFSET)    \n",
    "\n",
    "#     print(f'left = {left}')\n",
    "#     print(f'right = {frame_right}')\n",
    "    \n",
    "    f = int(note) - MIN_MIDI\n",
    "    label[left:onset_right, f] = 3\n",
    "    label[onset_right:frame_right, f] = 2\n",
    "#     label[frame_right:offset_right, f] = 1"
   ]
  },
  {
   "cell_type": "code",
   "execution_count": null,
   "metadata": {},
   "outputs": [],
   "source": [
    "evaluate_frames()"
   ]
  },
  {
   "cell_type": "code",
   "execution_count": 79,
   "metadata": {},
   "outputs": [],
   "source": [
    "def evaluate(onset_pred, frame_pred, label):\n",
    "    # Converting pianoroll to pitch and interval format\n",
    "    p_ref, i_ref = extract_notes_wo_velocity((label == 3).float(), (label > 1).float(), 0.5, 0.5)\n",
    "    p_est, i_est = extract_notes_wo_velocity(onset_pred, frame_pred, 0.5, 0.5)    \n",
    "    \n",
    "    # Extracting frames from pitch and interval info\n",
    "    t_est, f_est = notes_to_frames(p_est, i_est, frame_pred.shape)\n",
    "    t_ref, f_ref = notes_to_frames(p_ref, i_ref, (label > 1).float().shape)\n",
    "    \n",
    "    \n",
    "    \n",
    "    scaling = HOP_LENGTH / SAMPLE_RATE # calculate the scale for the following conversions\n",
    "    # Converting time steps to seconds and midi number to frequency\n",
    "    i_ref = (i_ref * scaling).reshape(-1, 2)\n",
    "    p_ref = np.array([midi_to_hz(MIN_MIDI + midi) for midi in p_ref])\n",
    "    i_est = (i_est * scaling).reshape(-1, 2)\n",
    "    p_est = np.array([midi_to_hz(MIN_MIDI + midi) for midi in p_est])\n",
    "\n",
    "    t_ref = t_ref.astype(np.float64) * scaling\n",
    "    f_ref = [np.array([midi_to_hz(MIN_MIDI + midi) for midi in freqs]) for freqs in f_ref]\n",
    "    t_est = t_est.astype(np.float64) * scaling\n",
    "    f_est = [np.array([midi_to_hz(MIN_MIDI + midi) for midi in freqs]) for freqs in f_est]\n",
    "    \n",
    "    p, r, f, o = evaluate_notes(i_ref, p_ref, i_est, p_est, offset_ratio=None)    \n",
    "    frame_metrics = evaluate_frames(t_ref, f_ref, t_est, f_est)\n",
    "    \n",
    "    print(f'------Note-wise metric-----\\n'\n",
    "          f'precision={p:.4f}\\trecall={r:.4f}\\tF1 score={f:.4f}')\n",
    "    print(f'------Frame-wise metric-----\\n'\n",
    "          f\"precision={frame_metrics['Precision']:.4f}\\trecall={frame_metrics['Recall']:.4f}\\tF1 score={hmean([frame_metrics['Precision'],frame_metrics['Recall']]):.4f}\")"
   ]
  },
  {
   "cell_type": "code",
   "execution_count": 80,
   "metadata": {},
   "outputs": [
    {
     "name": "stdout",
     "output_type": "stream",
     "text": [
      "------Note-wise metric-----\n",
      "precision=0.7234\trecall=0.6283\tF1 score=0.6725\n",
      "------Frame-wise metric-----\n",
      "precision=0.6547\trecall=0.4367\tF1 score=0.5239\n"
     ]
    }
   ],
   "source": [
    "evaluate(onset_pred[0], frame_pred[0], label)"
   ]
  },
  {
   "cell_type": "code",
   "execution_count": 72,
   "metadata": {},
   "outputs": [
    {
     "name": "stdout",
     "output_type": "stream",
     "text": [
      "precision=0.6447\trecall=0.4643\tF1 score=0.3697\n"
     ]
    }
   ],
   "source": [
    "print()"
   ]
  },
  {
   "cell_type": "code",
   "execution_count": 60,
   "metadata": {},
   "outputs": [
    {
     "data": {
      "text/plain": [
       "OrderedDict([('Precision', 0.644677284157586),\n",
       "             ('Recall', 0.46426415549921524),\n",
       "             ('Accuracy', 0.3696707522230233),\n",
       "             ('Substitution Error', 0.15338645418326693),\n",
       "             ('Miss Error', 0.3823493903175178),\n",
       "             ('False Alarm Error', 0.10249909453096705),\n",
       "             ('Total Error', 0.6382349390317518),\n",
       "             ('Chroma Precision', 0.7066219614417435),\n",
       "             ('Chroma Recall', 0.5088735965229989),\n",
       "             ('Chroma Accuracy', 0.42011362503737665),\n",
       "             ('Chroma Substitution Error', 0.10877701315948328),\n",
       "             ('Chroma Miss Error', 0.3823493903175178),\n",
       "             ('Chroma False Alarm Error', 0.10249909453096705),\n",
       "             ('Chroma Total Error', 0.5936254980079682)])"
      ]
     },
     "execution_count": 60,
     "metadata": {},
     "output_type": "execute_result"
    }
   ],
   "source": [
    "frame_metrics"
   ]
  },
  {
   "cell_type": "markdown",
   "metadata": {},
   "source": [
    "# Exporting as midi"
   ]
  },
  {
   "cell_type": "code",
   "execution_count": 49,
   "metadata": {},
   "outputs": [],
   "source": [
    "def save_midi(path, pitches, intervals, velocities):\n",
    "    \"\"\"\n",
    "    Save extracted notes as a MIDI file\n",
    "    Parameters\n",
    "    ----------\n",
    "    path: the path to save the MIDI file\n",
    "    pitches: np.ndarray of bin_indices\n",
    "    intervals: list of (onset_index, offset_index)\n",
    "    velocities: list of velocity values\n",
    "    \"\"\"\n",
    "    file = MidiFile()\n",
    "    track = MidiTrack()\n",
    "    file.tracks.append(track)\n",
    "    ticks_per_second = file.ticks_per_beat * 2.0\n",
    "\n",
    "    events = []\n",
    "    for i in range(len(pitches)):\n",
    "        events.append(dict(type='on', pitch=pitches[i], time=intervals[i][0], velocity=velocities[i]))\n",
    "        events.append(dict(type='off', pitch=pitches[i], time=intervals[i][1], velocity=velocities[i]))\n",
    "    events.sort(key=lambda row: row['time'])\n",
    "\n",
    "    last_tick = 0\n",
    "    for event in events:\n",
    "        current_tick = int(event['time'] * ticks_per_second)\n",
    "        velocity = int(event['velocity'] * 127)\n",
    "        if velocity > 127:\n",
    "            velocity = 127\n",
    "        pitch = int(round(hz_to_midi(event['pitch'])))\n",
    "        track.append(Message('note_' + event['type'], note=pitch, velocity=velocity, time=current_tick - last_tick))\n",
    "        last_tick = current_tick\n",
    "\n",
    "    file.save(path)"
   ]
  },
  {
   "cell_type": "code",
   "execution_count": 50,
   "metadata": {},
   "outputs": [],
   "source": [
    "midi_path='./test_audio/1759.midi'"
   ]
  },
  {
   "cell_type": "code",
   "execution_count": 51,
   "metadata": {},
   "outputs": [],
   "source": [
    "from mido import Message, MidiFile, MidiTrack\n",
    "from mir_eval.util import hz_to_midi"
   ]
  },
  {
   "cell_type": "code",
   "execution_count": 52,
   "metadata": {},
   "outputs": [],
   "source": [
    "save_midi(midi_path, p_est, i_est, [127]*len(p_est))"
   ]
  },
  {
   "cell_type": "code",
   "execution_count": null,
   "metadata": {},
   "outputs": [],
   "source": []
  }
 ],
 "metadata": {
  "kernelspec": {
   "display_name": "Python 3",
   "language": "python",
   "name": "python3"
  },
  "language_info": {
   "codemirror_mode": {
    "name": "ipython",
    "version": 3
   },
   "file_extension": ".py",
   "mimetype": "text/x-python",
   "name": "python",
   "nbconvert_exporter": "python",
   "pygments_lexer": "ipython3",
   "version": "3.6.8"
  }
 },
 "nbformat": 4,
 "nbformat_minor": 2
}
